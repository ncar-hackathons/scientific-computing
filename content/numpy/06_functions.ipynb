{
 "cells": [
  {
   "cell_type": "markdown",
   "metadata": {},
   "source": [
    "# Functions\n",
    "\n",
    "\n",
    "In Python, functions are **first class** objects: they can have variable names assigned to them, they can be passed as arguments to other functions, and can even be returned from other functions. A function is given a name when it is defined, but that name can be reassigned to refer a different object if desired (don't do this unless you mean to!)\n",
    "\n",
    "There are three types of functions in Python:\n",
    "\n",
    "1. **Built-in** functions, such as `help()` to ask for help, `print()` to print an object. You can \n",
    "\n",
    "|Title|Description|\n",
    "|--- |--- |\n",
    "| `abs()`|returns absolute value of a number|\n",
    "| `any()`|Checks if any Element of an Iterable is True|\n",
    "| `all()`|returns true when all elements in iterable is true|\n",
    "| `ascii()`|Returns String Containing Printable Representation|\n",
    "| `bin()`|converts integer to binary string|\n",
    "| `bool()`|Converts a Value to Boolean|\n",
    "| `bytearray()`|returns array of given byte size|\n",
    "| `callable()`|Checks if the Object is Callable|\n",
    "| `bytes()`|returns immutable bytes object|\n",
    "| `chr()`|Returns a Character (a string) from an Integer|\n",
    "| `compile()`|Returns a  code object|\n",
    "| `classmethod()`|returns class method for given function|\n",
    "| `complex()`|Creates a Complex Number|\n",
    "| `delattr()`|Deletes Attribute From the Object|\n",
    "| `dict()`|Creates a Dictionary|\n",
    "| `dir()`|Tries to Return Attributes of Object|\n",
    "| `divmod()`|Returns a Tuple of Quotient and Remainder|\n",
    "| `enumerate()`|Returns an Enumerate Object|\n",
    "| `staticmethod()`|creates static method from a function|\n",
    "| `filter()`|constructs iterator from elements which are true|\n",
    "| `eval()`|Runs  Code Within Program|\n",
    "| `float()`|returns floating point number from number, string|\n",
    "| `format()`|returns formatted representation of a value|\n",
    "| `frozenset()`|returns immutable frozenset object|\n",
    "| `getattr()`|returns value of named attribute of an object|\n",
    "| `globals()`|returns dictionary of current global symbol table|\n",
    "| `exec()`|Executes Dynamically Created Program|\n",
    "| `hasattr()`|returns whether object has named attribute|\n",
    "| `help()`|Invokes the built-in Help System|\n",
    "| `hex()`|Converts to Integer to Hexadecimal|\n",
    "| `hash()`|returns hash value of an object|\n",
    "| `input()`|reads and returns a line of string|\n",
    "| `id()`|Returns Identify of an Object|\n",
    "| `isinstance()`|Checks if an Object is an Instance of Class|\n",
    "| `int()`|returns integer from a number or string|\n",
    "| `issubclass()`|Checks if a Object is Subclass of a Class|\n",
    "| `iter()`|returns iterator for an object|\n",
    "| `list()` | creates list  |\n",
    "| `locals()`|Returns dictionary of a current local symbol table|\n",
    "| `len()`|Returns Length of an Object|\n",
    "| `max()`|returns largest element|\n",
    "| `min()`|returns smallest element|\n",
    "| `map()`|Applies Function and Returns a List|\n",
    "| `next()`|Retrieves Next Element from Iterator|\n",
    "| `memoryview()`|returns memory view of an argument|\n",
    "| `object()`|Creates a Featureless Object|\n",
    "| `oct()`|converts integer to octal|\n",
    "| `ord()`|returns Unicode code point for Unicode character|\n",
    "| `open()`|Returns a File object|\n",
    "| `pow()`|returns x to the power of y|\n",
    "| `print()`|Prints the Given Object|\n",
    "| `property()`|returns a property attribute|\n",
    "| `range()`|return sequence of integers between start and stop|\n",
    "| `repr()`|returns printable representation of an object|\n",
    "| `reversed()`|returns reversed iterator of a sequence|\n",
    "| `round()`|rounds a floating point number to ndigits places.|\n",
    "| `set()`|returns a  set|\n",
    "| `setattr()`|sets value of an attribute of object|\n",
    "| `slice()`|creates a slice object specified by range()|\n",
    "| `sorted()`|returns sorted list from a given iterable|\n",
    "| `str()`|returns informal representation of an object|\n",
    "| `sum()`|Add items of an Iterable|\n",
    "| `tuple()` Function|Creates a Tuple|\n",
    "| `type()`|Returns Type of an Object|\n",
    "| `vars()`|Returns __dict__ attribute of a class|\n",
    "| `zip()`|Returns an Iterator of Tuples|\n",
    "| `__import__()`|Advanced Function Called by import|\n",
    "| `super()`|Allow you to Refer Parent Class by super|\n",
    "\n",
    "2. User-Defined Functions(UDFs), which are functions that users create to help them out\n",
    "\n",
    "3. Anonymous functions, also known as **lambda** functions because they are not declared with the standard `def` keyworkd. "
   ]
  },
  {
   "cell_type": "markdown",
   "metadata": {},
   "source": [
    "## How to define a User-Defined Function:\n",
    "\n",
    "The four steps to defining a function in Python are the following:\n",
    "\n",
    "- Use the keyword `def` to declare the function and follow this up with the function name.\n",
    "- Add parameters to the function: they should be within the parentheses of the function. End your line with a colon.\n",
    "- Add doscstring which describes what your function does, and/or its return values. \n",
    "- Add statements that the functions should execute.\n",
    "- End your function with a return statement if the function should output something. Without the return statement, your function will return an object `None`."
   ]
  },
  {
   "cell_type": "code",
   "execution_count": 1,
   "metadata": {},
   "outputs": [],
   "source": [
    "def double(x):\n",
    "    \"\"\"doubles the value passed to it\n",
    "    \n",
    "    Returns\n",
    "    -------\n",
    "    Doubled value\n",
    "    \"\"\"\n",
    "    return x*2"
   ]
  },
  {
   "cell_type": "code",
   "execution_count": 2,
   "metadata": {},
   "outputs": [
    {
     "data": {
      "text/plain": [
       "10"
      ]
     },
     "execution_count": 2,
     "metadata": {},
     "output_type": "execute_result"
    }
   ],
   "source": [
    "double(5) # Call function"
   ]
  },
  {
   "cell_type": "markdown",
   "metadata": {},
   "source": [
    "## Function Arguments\n",
    "\n",
    "There are four types of arguments that Python UDFs can take:\n",
    "    \n",
    "- Default arguments\n",
    "- Required arguments\n",
    "- Keyword arguments\n",
    "- Variable number of arguments"
   ]
  },
  {
   "cell_type": "markdown",
   "metadata": {},
   "source": [
    "### Default Arguments\n",
    "\n",
    "- Default arguments are those that take a default value if no argument value is passed during the function call. \n",
    "- You can assign this default value by with the assignment operator =, just like in the following example:"
   ]
  },
  {
   "cell_type": "code",
   "execution_count": 3,
   "metadata": {},
   "outputs": [],
   "source": [
    "def multiply(a, b=5):\n",
    "    return a * b"
   ]
  },
  {
   "cell_type": "code",
   "execution_count": 4,
   "metadata": {},
   "outputs": [
    {
     "data": {
      "text/plain": [
       "10"
      ]
     },
     "execution_count": 4,
     "metadata": {},
     "output_type": "execute_result"
    }
   ],
   "source": [
    "multiply(a=2) # Call function with only `a` parameters"
   ]
  },
  {
   "cell_type": "code",
   "execution_count": 5,
   "metadata": {},
   "outputs": [
    {
     "data": {
      "text/plain": [
       "4"
      ]
     },
     "execution_count": 5,
     "metadata": {},
     "output_type": "execute_result"
    }
   ],
   "source": [
    "multiply(a=2, b=2) # Call function with `a` and `b` parameters"
   ]
  },
  {
   "cell_type": "markdown",
   "metadata": {},
   "source": [
    "### Required Arguments\n",
    "\n",
    "- The required arguments of a UDF are those that have to be in there. \n",
    "- These arguments need to be passed during the function call and in precisely the right order,"
   ]
  },
  {
   "cell_type": "code",
   "execution_count": 6,
   "metadata": {},
   "outputs": [],
   "source": [
    "def divide(a, b):\n",
    "    return a / b"
   ]
  },
  {
   "cell_type": "markdown",
   "metadata": {},
   "source": [
    "You need arguments that map to the a as well as the b parameters to call the function without getting any errors. "
   ]
  },
  {
   "cell_type": "code",
   "execution_count": 7,
   "metadata": {},
   "outputs": [
    {
     "data": {
      "text/plain": [
       "5.0"
      ]
     },
     "execution_count": 7,
     "metadata": {},
     "output_type": "execute_result"
    }
   ],
   "source": [
    "divide(10, 2)"
   ]
  },
  {
   "cell_type": "code",
   "execution_count": 8,
   "metadata": {},
   "outputs": [
    {
     "data": {
      "text/plain": [
       "0.2"
      ]
     },
     "execution_count": 8,
     "metadata": {},
     "output_type": "execute_result"
    }
   ],
   "source": [
    "divide(2, 10)"
   ]
  },
  {
   "cell_type": "markdown",
   "metadata": {},
   "source": [
    "### Keyword Arguments\n",
    "\n",
    "- If you want to make sure that you call all the parameters in the right order, you can use the keyword arguments in your function call. \n",
    "- You use these to identify the arguments by their parameter name."
   ]
  },
  {
   "cell_type": "code",
   "execution_count": 9,
   "metadata": {},
   "outputs": [],
   "source": [
    "def divide(a, b):\n",
    "    return a / b"
   ]
  },
  {
   "cell_type": "code",
   "execution_count": 10,
   "metadata": {},
   "outputs": [
    {
     "data": {
      "text/plain": [
       "5.0"
      ]
     },
     "execution_count": 10,
     "metadata": {},
     "output_type": "execute_result"
    }
   ],
   "source": [
    "divide(10, 2)"
   ]
  },
  {
   "cell_type": "code",
   "execution_count": 11,
   "metadata": {},
   "outputs": [
    {
     "data": {
      "text/plain": [
       "5.0"
      ]
     },
     "execution_count": 11,
     "metadata": {},
     "output_type": "execute_result"
    }
   ],
   "source": [
    "divide(a=10, b=2)"
   ]
  },
  {
   "cell_type": "code",
   "execution_count": 12,
   "metadata": {},
   "outputs": [
    {
     "data": {
      "text/plain": [
       "5.0"
      ]
     },
     "execution_count": 12,
     "metadata": {},
     "output_type": "execute_result"
    }
   ],
   "source": [
    "divide(b=2, a=10)"
   ]
  },
  {
   "cell_type": "markdown",
   "metadata": {},
   "source": [
    "### Variable Number of Arguments\n",
    "\n",
    "- In cases where you don’t know the exact number of arguments that you want to pass to a function, you can use the following syntax with *args:"
   ]
  },
  {
   "cell_type": "code",
   "execution_count": 13,
   "metadata": {},
   "outputs": [],
   "source": [
    "def maximum(*args):\n",
    "    return max(args)"
   ]
  },
  {
   "cell_type": "code",
   "execution_count": 14,
   "metadata": {},
   "outputs": [
    {
     "data": {
      "text/plain": [
       "5"
      ]
     },
     "execution_count": 14,
     "metadata": {},
     "output_type": "execute_result"
    }
   ],
   "source": [
    "maximum(1, 4, 5)"
   ]
  },
  {
   "cell_type": "code",
   "execution_count": 15,
   "metadata": {},
   "outputs": [
    {
     "data": {
      "text/plain": [
       "9"
      ]
     },
     "execution_count": 15,
     "metadata": {},
     "output_type": "execute_result"
    }
   ],
   "source": [
    "maximum(2, 9)"
   ]
  },
  {
   "cell_type": "code",
   "execution_count": 16,
   "metadata": {},
   "outputs": [
    {
     "data": {
      "text/plain": [
       "5"
      ]
     },
     "execution_count": 16,
     "metadata": {},
     "output_type": "execute_result"
    }
   ],
   "source": [
    "maximum(5)"
   ]
  },
  {
   "cell_type": "markdown",
   "metadata": {},
   "source": [
    "The asterisk `(*)` is placed before the variable name that holds the values of all nonkeyword variable arguments. Note here that you might as well have passed `*values`, `*values_int_args` or any other name to the `maximum()` function."
   ]
  },
  {
   "cell_type": "markdown",
   "metadata": {},
   "source": [
    "## Global vs Local Variables\n",
    "\n",
    "- In general, variables that are defined inside a function body have a local scope, and those defined outside have a global scope. That means that local variables are defined within a function block and can only be accessed inside that function, while global variables can be obtained by all functions that might be in your script:"
   ]
  },
  {
   "cell_type": "code",
   "execution_count": 17,
   "metadata": {},
   "outputs": [],
   "source": [
    "def outer_func():\n",
    "    def inner_func():\n",
    "        a = 9\n",
    "        print(f'inside inner_func, a is {a} (id={id(a)})')\n",
    "        print(f'inside inner_func, b is {b} (id={id(b)})')\n",
    "        print(f'inside inner_func, len is {len} (id={id(len)})')\n",
    "\n",
    "    len = 2\n",
    "    print(f'inside outer_func, a is {a} (id={id(a)})')\n",
    "    print(f'inside outer_func, b is {b} (id={id(b)})')\n",
    "    print(f'inside outer_func, len is {len} (id={id(len)})')\n",
    "    inner_func()"
   ]
  },
  {
   "cell_type": "code",
   "execution_count": 18,
   "metadata": {},
   "outputs": [
    {
     "name": "stdout",
     "output_type": "stream",
     "text": [
      "inside outer_func, a is 6 (id=4520986096)\n",
      "inside outer_func, b is 7 (id=4520986128)\n",
      "inside outer_func, len is 2 (id=4520985968)\n",
      "inside inner_func, a is 9 (id=4520986192)\n",
      "inside inner_func, b is 7 (id=4520986128)\n",
      "inside inner_func, len is 2 (id=4520985968)\n"
     ]
    }
   ],
   "source": [
    "a, b = 6, 7\n",
    "outer_func()"
   ]
  },
  {
   "cell_type": "code",
   "execution_count": 19,
   "metadata": {},
   "outputs": [
    {
     "name": "stdout",
     "output_type": "stream",
     "text": [
      "in global scope, a is 6 (id=4520986096)\n"
     ]
    }
   ],
   "source": [
    "print(f'in global scope, a is {a} (id={id(a)})')"
   ]
  },
  {
   "cell_type": "code",
   "execution_count": 20,
   "metadata": {},
   "outputs": [
    {
     "name": "stdout",
     "output_type": "stream",
     "text": [
      "in global scope, b is 7 (id=4520986128)\n"
     ]
    }
   ],
   "source": [
    "print(f'in global scope, b is {b} (id={id(b)})')"
   ]
  },
  {
   "cell_type": "code",
   "execution_count": 21,
   "metadata": {},
   "outputs": [
    {
     "name": "stdout",
     "output_type": "stream",
     "text": [
      "in global scope, len is <built-in function len> (id=4522212664)\n"
     ]
    }
   ],
   "source": [
    "print(f'in global scope, len is {len} (id={id(len)})')"
   ]
  },
  {
   "cell_type": "markdown",
   "metadata": {},
   "source": [
    "This program defines a function, inner_func nested inside another, outer_func. After these definitions, the execution proceeds as follows:\n",
    "\n",
    "- Global variables `a=6` and `b=7` are initialized.\n",
    "- `outer_func` is called:\n",
    "    - `outer_func` defines a local variable, len=2.\n",
    "    - The values of a and b are printed; they don't exist in local scope and there isn't any enclosing scope, so Python searches for and finds them in global scope: their values (6 and 7) are output.\n",
    "    \n",
    "    - The value of local variable len (2) is printed.\n",
    "    - `inner_func` is called:\n",
    "   \n",
    "        - A local variable, `a=9` is defined.\n",
    "        - The value of this local variable is printed.\n",
    "        - The value of `b` is printed; `b` doesn't exist in local scope so Python looks for it in enclosing scope, that of `outer_func`. It isn't found there either, so Python proceeds to look in global scope where it is found: the value `b=7` is printed.\n",
    "        - The value of len is printed: `len` doesn't exist in local scope, but it is in the enclosing scope since `len=2` is defined in `outer_func`: its value is output\n",
    "\n",
    "- After `outer_func` has finished execution, the values of `a` and `b` in global scope are printed.\n",
    "\n",
    "- The value of `len` is printed. This is not defined in global scope, so Python searches its own built-in names: `len` is the built-in function for determining the lengths of sequences. This function is itself an object and it provides a short string description of itself when printed."
   ]
  },
  {
   "cell_type": "markdown",
   "metadata": {},
   "source": [
    "## Anonymous Functions in Python\n",
    "\n",
    "- Anonymous functions are also called lambda functions in Python because instead of declaring them with the standard `def` keyword, you use the `lambda` keyword."
   ]
  },
  {
   "cell_type": "code",
   "execution_count": 22,
   "metadata": {},
   "outputs": [],
   "source": [
    "double = lambda x: x*2"
   ]
  },
  {
   "cell_type": "code",
   "execution_count": 23,
   "metadata": {},
   "outputs": [
    {
     "data": {
      "text/plain": [
       "10"
      ]
     },
     "execution_count": 23,
     "metadata": {},
     "output_type": "execute_result"
    }
   ],
   "source": [
    "double(5)"
   ]
  },
  {
   "cell_type": "markdown",
   "metadata": {},
   "source": [
    " You use anonymous functions when you require a nameless function for a short period of time, and that is created at runtime. Specific contexts in which this would be relevant is when you’re working with `filter()`, `map()` and `reduce()`:"
   ]
  },
  {
   "cell_type": "code",
   "execution_count": 25,
   "metadata": {},
   "outputs": [],
   "source": [
    "from functools import reduce\n",
    "\n",
    "my_list = [1,2,3,4,5,6,7,8,9,10]\n"
   ]
  },
  {
   "cell_type": "code",
   "execution_count": 26,
   "metadata": {},
   "outputs": [
    {
     "data": {
      "text/plain": [
       "[6, 7, 8, 9, 10]"
      ]
     },
     "execution_count": 26,
     "metadata": {},
     "output_type": "execute_result"
    }
   ],
   "source": [
    "# Use lambda function with `filter()`\n",
    "filtered_list = list(filter(lambda x: (x*2 > 10), my_list))\n",
    "\n",
    "filtered_list"
   ]
  },
  {
   "cell_type": "code",
   "execution_count": 27,
   "metadata": {},
   "outputs": [
    {
     "data": {
      "text/plain": [
       "[2, 4, 6, 8, 10, 12, 14, 16, 18, 20]"
      ]
     },
     "execution_count": 27,
     "metadata": {},
     "output_type": "execute_result"
    }
   ],
   "source": [
    "# Use lambda function with `map()`\n",
    "mapped_list = list(map(lambda x: x*2, my_list))\n",
    "\n",
    "mapped_list"
   ]
  },
  {
   "cell_type": "code",
   "execution_count": 28,
   "metadata": {},
   "outputs": [
    {
     "data": {
      "text/plain": [
       "55"
      ]
     },
     "execution_count": 28,
     "metadata": {},
     "output_type": "execute_result"
    }
   ],
   "source": [
    "# Use lambda function with `reduce()`\n",
    "reduced_list = reduce(lambda x, y: x+y, my_list)\n",
    "\n",
    "reduced_list"
   ]
  },
  {
   "cell_type": "markdown",
   "metadata": {},
   "source": [
    "The `filter()` function filters, as the name suggests, the original input list my_list on the basis of a criterion `>10`. With `map()`, on the other hand, you apply a function to all items of the list `my_list`. In this case, you multiply all elements with 2.\n",
    "\n",
    "Note that the `reduce()` function is part of the functools library. You use this function cumulatively to the items of the `my_list` list, from left to right and reduce the sequence to a single value, 55, in this case.\n",
    "\n"
   ]
  }
 ],
 "metadata": {
  "kernelspec": {
   "display_name": "Python 3",
   "language": "python",
   "name": "python3"
  },
  "language_info": {
   "codemirror_mode": {
    "name": "ipython",
    "version": 3
   },
   "file_extension": ".py",
   "mimetype": "text/x-python",
   "name": "python",
   "nbconvert_exporter": "python",
   "pygments_lexer": "ipython3",
   "version": "3.6.7"
  }
 },
 "nbformat": 4,
 "nbformat_minor": 2
}
