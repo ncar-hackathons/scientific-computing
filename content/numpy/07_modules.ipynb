{
 "cells": [
  {
   "cell_type": "markdown",
   "metadata": {},
   "source": [
    "# Modules"
   ]
  },
  {
   "cell_type": "markdown",
   "metadata": {},
   "source": [
    "- A typical Python program is made up of several source files.\n",
    "- Each source file corresponds to a **module**, which packages program codea nd data for reuse.\n",
    "- Modules are normally independent of each other so that other programs can reuse teh specific modules they need. \n",
    "- You can use any Python source file as a module by executing an **`import`** statement in some other code. `import` has the following syntax:\n",
    "\n",
    "```python\n",
    "import modname [as varname][,...]\n",
    "```"
   ]
  },
  {
   "cell_type": "markdown",
   "metadata": {},
   "source": [
    "Let's look at an example ot help our discusion of how to import and use Python modules:"
   ]
  },
  {
   "cell_type": "markdown",
   "metadata": {},
   "source": [
    "- Import Python's numeric package `NumPy` which we will talk about in-depth in next tutorial:"
   ]
  },
  {
   "cell_type": "code",
   "execution_count": 1,
   "metadata": {},
   "outputs": [],
   "source": [
    "import numpy\n",
    "\n",
    "# or \n",
    "\n",
    "import numpy as np # np is an alias"
   ]
  },
  {
   "cell_type": "markdown",
   "metadata": {},
   "source": [
    "An import statement creates a new namespace that contains all the attributes of the module. This idea of a **namespace** for Python modules helps protect against collisions. Once a module is imported, you can use functions, variables, etc. defined in the module by referring to the imported name, putting a period (`\".\"`), and the name of the functon, variable, attribute, etc. that was defined in the module:"
   ]
  },
  {
   "cell_type": "code",
   "execution_count": 2,
   "metadata": {},
   "outputs": [
    {
     "data": {
      "text/plain": [
       "6"
      ]
     },
     "execution_count": 2,
     "metadata": {},
     "output_type": "execute_result"
    }
   ],
   "source": [
    "numpy.max([6, 2])"
   ]
  },
  {
   "cell_type": "code",
   "execution_count": 3,
   "metadata": {},
   "outputs": [
    {
     "data": {
      "text/plain": [
       "6"
      ]
     },
     "execution_count": 3,
     "metadata": {},
     "output_type": "execute_result"
    }
   ],
   "source": [
    "np.max([6, 2])"
   ]
  }
 ],
 "metadata": {
  "kernelspec": {
   "display_name": "Python 3",
   "language": "python",
   "name": "python3"
  },
  "language_info": {
   "codemirror_mode": {
    "name": "ipython",
    "version": 3
   },
   "file_extension": ".py",
   "mimetype": "text/x-python",
   "name": "python",
   "nbconvert_exporter": "python",
   "pygments_lexer": "ipython3",
   "version": "3.6.7"
  }
 },
 "nbformat": 4,
 "nbformat_minor": 2
}
