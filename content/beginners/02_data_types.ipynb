{
 "cells": [
  {
   "cell_type": "markdown",
   "metadata": {},
   "source": [
    "# Data Types\n",
    "\n",
    "- All data values in Python are represented by objects, and each object, or value, has **a type**.\n",
    "- An object's type determines what operations you can perform on the data value. \n",
    "- The type also determines the object's attributes and items (if any) and whether the object can be altered.\n",
    "- Python has built-in objects for fundamental data types such as numbers, strings, tuples, lists, sets, and dictionaries"
   ]
  },
  {
   "cell_type": "markdown",
   "metadata": {},
   "source": [
    "## [Numeric Types — int, float, complex](https://docs.python.org/3/library/stdtypes.html#numeric-types-int-float-complex)\n",
    "\n",
    "- The built-in number objects in Python support integers (plain, long) , floating-point numbers, and complex numbers.\n",
    "- All numbers in Python are immutable objects, i.e. when you perform an operation on a number object, you always produce a new number object\n",
    "- Integers have unlimited precision."
   ]
  },
  {
   "cell_type": "code",
   "execution_count": 1,
   "metadata": {},
   "outputs": [
    {
     "data": {
      "text/plain": [
       "(1, 23, 5588)"
      ]
     },
     "execution_count": 1,
     "metadata": {},
     "output_type": "execute_result"
    }
   ],
   "source": [
    "1, 23, 5588 # Decimal integers"
   ]
  },
  {
   "cell_type": "code",
   "execution_count": 2,
   "metadata": {},
   "outputs": [
    {
     "data": {
      "text/plain": [
       "(0.0, 0.0009, 0.1, 1.0, 1e-05)"
      ]
     },
     "execution_count": 2,
     "metadata": {},
     "output_type": "execute_result"
    }
   ],
   "source": [
    "0., 0.0009, 0.1, 1e0, 1.0e-5 # Floating-point numbers"
   ]
  },
  {
   "cell_type": "markdown",
   "metadata": {},
   "source": [
    "---\n",
    "**NOTE** \n",
    "\n",
    "A Python floating-point value corresponds to a **C double**  and shares its limits of range and precision. Information about the precision and internal representation of floating point numbers for the machine on which your program is running is available in:\n",
    "\n",
    "---"
   ]
  },
  {
   "cell_type": "code",
   "execution_count": 3,
   "metadata": {},
   "outputs": [],
   "source": [
    "import sys"
   ]
  },
  {
   "cell_type": "code",
   "execution_count": 4,
   "metadata": {},
   "outputs": [
    {
     "data": {
      "text/plain": [
       "sys.float_info(max=1.7976931348623157e+308, max_exp=1024, max_10_exp=308, min=2.2250738585072014e-308, min_exp=-1021, min_10_exp=-307, dig=15, mant_dig=53, epsilon=2.220446049250313e-16, radix=2, rounds=1)"
      ]
     },
     "execution_count": 4,
     "metadata": {},
     "output_type": "execute_result"
    }
   ],
   "source": [
    "sys.float_info"
   ]
  },
  {
   "cell_type": "markdown",
   "metadata": {},
   "source": [
    "A complex number is made up of two floating-point values, one each for the real and imaginary parts:"
   ]
  },
  {
   "cell_type": "code",
   "execution_count": 5,
   "metadata": {},
   "outputs": [
    {
     "data": {
      "text/plain": [
       "(0j, (4+0.5j))"
      ]
     },
     "execution_count": 5,
     "metadata": {},
     "output_type": "execute_result"
    }
   ],
   "source": [
    "0j, 0.5j + 4 # complex numbers"
   ]
  },
  {
   "cell_type": "markdown",
   "metadata": {},
   "source": [
    "## [Text Sequence Type — str](https://docs.python.org/3/library/stdtypes.html#text-sequence-type-str)\n"
   ]
  },
  {
   "cell_type": "markdown",
   "metadata": {},
   "source": [
    "- A built-in string object is an ordered collection of characters.\n",
    "- Strings in Python are **immutable** squences of Unicode code points, i.e. when you perform an operation on a string object, you always produce a new string object\n",
    "- A string literal can be single, double or triple-quoted:"
   ]
  },
  {
   "cell_type": "code",
   "execution_count": 6,
   "metadata": {},
   "outputs": [
    {
     "data": {
      "text/plain": [
       "'CESM is a fully-coupled, community, global climate model'"
      ]
     },
     "execution_count": 6,
     "metadata": {},
     "output_type": "execute_result"
    }
   ],
   "source": [
    "'CESM is a fully-coupled, community, global climate model'"
   ]
  },
  {
   "cell_type": "code",
   "execution_count": 7,
   "metadata": {},
   "outputs": [
    {
     "data": {
      "text/plain": [
       "'CESM is a fully-coupled, community, global climate model'"
      ]
     },
     "execution_count": 7,
     "metadata": {},
     "output_type": "execute_result"
    }
   ],
   "source": [
    "\"CESM is a fully-coupled, community, global climate model\""
   ]
  },
  {
   "cell_type": "markdown",
   "metadata": {},
   "source": [
    "The two different kinds of quotes function identically; having both allows you to include one kind of quote\n",
    "\n",
    "inside a string specified with the other kind without need to escape them with the backslash character (`\\`):"
   ]
  },
  {
   "cell_type": "code",
   "execution_count": 8,
   "metadata": {},
   "outputs": [
    {
     "data": {
      "text/plain": [
       "\"CESM provides state-of-the-art computer simulations of the Earth's past, present, and future climate states.\""
      ]
     },
     "execution_count": 8,
     "metadata": {},
     "output_type": "execute_result"
    }
   ],
   "source": [
    "# quote can be escaped\n",
    "'CESM provides state-of-the-art computer simulations of the Earth\\'s past, present, and future climate states.' "
   ]
  },
  {
   "cell_type": "code",
   "execution_count": 9,
   "metadata": {},
   "outputs": [
    {
     "data": {
      "text/plain": [
       "\"CESM provides state-of-the-art computer simulations of the Earth's past, present, and future climate states.\""
      ]
     },
     "execution_count": 9,
     "metadata": {},
     "output_type": "execute_result"
    }
   ],
   "source": [
    "# this way is more readable\n",
    "\"CESM provides state-of-the-art computer simulations of the Earth's past, present, and future climate states.\" "
   ]
  },
  {
   "cell_type": "markdown",
   "metadata": {},
   "source": [
    "To have a string span multiple lines, you can use a backslash as the last character of the line to indicate that the next line is a contiuation:\n",
    "    "
   ]
  },
  {
   "cell_type": "code",
   "execution_count": 10,
   "metadata": {},
   "outputs": [
    {
     "name": "stdout",
     "output_type": "stream",
     "text": [
      "CESM is a fully-coupled, community, global climate model that provides state-of-the-art computer simulations of the Earth's past, present, and future climate states.\n"
     ]
    }
   ],
   "source": [
    "print(\"CESM is a fully-coupled, community, global climate model that provides state-of-the-art \\\n",
    "computer simulations of the Earth's past, present, and future climate states.\")"
   ]
  },
  {
   "cell_type": "markdown",
   "metadata": {},
   "source": [
    "To make the string output on two lines, you must embed a newline character in the string:\n",
    "    "
   ]
  },
  {
   "cell_type": "code",
   "execution_count": 11,
   "metadata": {},
   "outputs": [
    {
     "name": "stdout",
     "output_type": "stream",
     "text": [
      "CESM is a fully-coupled, community, global climate model that provides state-of-the-art\n",
      "computer simulations of the Earth's past, present, and future climate states.\n"
     ]
    }
   ],
   "source": [
    "print(\"CESM is a fully-coupled, community, global climate model that provides state-of-the-art\\n\\\n",
    "computer simulations of the Earth's past, present, and future climate states.\")"
   ]
  },
  {
   "cell_type": "markdown",
   "metadata": {},
   "source": [
    "Another approach is to use a triple-quoted string, which is enclosed by matching triplets of quote characters(`'''` or `\"\"\"`):"
   ]
  },
  {
   "cell_type": "code",
   "execution_count": 12,
   "metadata": {},
   "outputs": [
    {
     "name": "stdout",
     "output_type": "stream",
     "text": [
      "CESM is a fully-coupled, community, global climate model \n",
      "that provides state-of-the-art computer simulations of the Earth's past, \n",
      "present, and future climate states.\n"
     ]
    }
   ],
   "source": [
    "print(\"\"\"CESM is a fully-coupled, community, global climate model \n",
    "that provides state-of-the-art computer simulations of the Earth's past, \n",
    "present, and future climate states.\"\"\")"
   ]
  },
  {
   "cell_type": "markdown",
   "metadata": {},
   "source": [
    "- **String interpolation**"
   ]
  },
  {
   "cell_type": "markdown",
   "metadata": {},
   "source": [
    "- **String interpolation**"
   ]
  },
  {
   "cell_type": "markdown",
   "metadata": {},
   "source": [
    "*Old Style*"
   ]
  },
  {
   "cell_type": "code",
   "execution_count": 13,
   "metadata": {},
   "outputs": [
    {
     "data": {
      "text/plain": [
       "'Both pop and cam are CESM2 components'"
      ]
     },
     "execution_count": 13,
     "metadata": {},
     "output_type": "execute_result"
    }
   ],
   "source": [
    "'Both %s and %s are %s%d components' %('pop', 'cam', 'CESM', 2)"
   ]
  },
  {
   "cell_type": "code",
   "execution_count": 14,
   "metadata": {},
   "outputs": [
    {
     "data": {
      "text/plain": [
       "'Both pop and cam are CESM2 components'"
      ]
     },
     "execution_count": 14,
     "metadata": {},
     "output_type": "execute_result"
    }
   ],
   "source": [
    "'Both {} and {} are {}{} components'.format('pop', 'cam', 'CESM', 2)"
   ]
  },
  {
   "cell_type": "markdown",
   "metadata": {},
   "source": [
    "*F-strings*"
   ]
  },
  {
   "cell_type": "code",
   "execution_count": 15,
   "metadata": {},
   "outputs": [],
   "source": [
    "component_1='pop'\n",
    "component_2='cam'\n",
    "cesm='CESM'\n",
    "version=2"
   ]
  },
  {
   "cell_type": "code",
   "execution_count": 16,
   "metadata": {},
   "outputs": [
    {
     "data": {
      "text/plain": [
       "'Both pop and cam are CESM2 components'"
      ]
     },
     "execution_count": 16,
     "metadata": {},
     "output_type": "execute_result"
    }
   ],
   "source": [
    "f'Both {component_1} and {component_2} are {cesm}{version} components'"
   ]
  },
  {
   "cell_type": "markdown",
   "metadata": {},
   "source": [
    "\n",
    "---\n",
    "**NOTE**\n",
    "\n",
    "To Learn more about Python 3's f-Strings, please check [Python 3's f-Strings: An Improved String Formatting Syntax (Guide)](https://realpython.com/python-f-strings/)\n",
    "\n",
    "\n",
    "---\n"
   ]
  },
  {
   "cell_type": "markdown",
   "metadata": {},
   "source": [
    "- **String concatenation with + and ***\n",
    "\n",
    "Strings concatenated with the `+` operator can repeated with `*`, but only if enclosed in parentheses:"
   ]
  },
  {
   "cell_type": "code",
   "execution_count": 17,
   "metadata": {},
   "outputs": [
    {
     "data": {
      "text/plain": [
       "'aaa'"
      ]
     },
     "execution_count": 17,
     "metadata": {},
     "output_type": "execute_result"
    }
   ],
   "source": [
    "'a' * 3"
   ]
  },
  {
   "cell_type": "code",
   "execution_count": 18,
   "metadata": {},
   "outputs": [
    {
     "data": {
      "text/plain": [
       "'aaaBaaaB'"
      ]
     },
     "execution_count": 18,
     "metadata": {},
     "output_type": "execute_result"
    }
   ],
   "source": [
    "('a' * 3 + 'B') * 2"
   ]
  },
  {
   "cell_type": "markdown",
   "metadata": {},
   "source": [
    "- **Unicode**\n",
    "\n",
    "Unicode characters can be entered directly into string literals:\n",
    "\n"
   ]
  },
  {
   "cell_type": "code",
   "execution_count": 19,
   "metadata": {},
   "outputs": [
    {
     "data": {
      "text/plain": [
       "('André-Marie Ampère', 'Château de Versailles')"
      ]
     },
     "execution_count": 19,
     "metadata": {},
     "output_type": "execute_result"
    }
   ],
   "source": [
    "'André-Marie Ampère', 'Château de Versailles'"
   ]
  },
  {
   "cell_type": "markdown",
   "metadata": {},
   "source": [
    "\n",
    "---\n",
    "**NOTE**\n",
    "\n",
    "Python even supports unicode variable names, so identifiers can use non-ASCII characters:\n",
    "\n",
    "\n",
    "---\n"
   ]
  },
  {
   "cell_type": "code",
   "execution_count": 20,
   "metadata": {},
   "outputs": [],
   "source": [
    "Σ = 4\n",
    "ǝlƃuɐᴉɹʇ = 10.5\n",
    "π = 3.14\n",
    "β = 5"
   ]
  },
  {
   "cell_type": "code",
   "execution_count": 21,
   "metadata": {},
   "outputs": [
    {
     "data": {
      "text/plain": [
       "(3.14, 5, 8.14, 21.0)"
      ]
     },
     "execution_count": 21,
     "metadata": {},
     "output_type": "execute_result"
    }
   ],
   "source": [
    "π, β, π+β, ǝlƃuɐᴉɹʇ*2"
   ]
  },
  {
   "cell_type": "markdown",
   "metadata": {},
   "source": [
    "- **String slicing**"
   ]
  },
  {
   "cell_type": "markdown",
   "metadata": {},
   "source": [
    "Because of the syntax of string slicing, `s[m:n]`, the number `n-m` is always the length of the substring. In other words, to return `r` characters starting at index m, use s`[m:m+r]`"
   ]
  },
  {
   "cell_type": "code",
   "execution_count": 22,
   "metadata": {},
   "outputs": [],
   "source": [
    "s = 'CESM Models | CESM2'"
   ]
  },
  {
   "cell_type": "code",
   "execution_count": 23,
   "metadata": {},
   "outputs": [
    {
     "data": {
      "text/plain": [
       "'CESM '"
      ]
     },
     "execution_count": 23,
     "metadata": {},
     "output_type": "execute_result"
    }
   ],
   "source": [
    "s[:5]"
   ]
  },
  {
   "cell_type": "code",
   "execution_count": 24,
   "metadata": {},
   "outputs": [
    {
     "data": {
      "text/plain": [
       "'Models | '"
      ]
     },
     "execution_count": 24,
     "metadata": {},
     "output_type": "execute_result"
    }
   ],
   "source": [
    "s[5:14]"
   ]
  },
  {
   "cell_type": "code",
   "execution_count": 25,
   "metadata": {},
   "outputs": [
    {
     "data": {
      "text/plain": [
       "'ESM2'"
      ]
     },
     "execution_count": 25,
     "metadata": {},
     "output_type": "execute_result"
    }
   ],
   "source": [
    "s[15:]"
   ]
  },
  {
   "cell_type": "markdown",
   "metadata": {},
   "source": [
    "#### String Methods\n",
    "\n",
    "Python has a set of built-in methods that you can use on strings.\n",
    "\n",
    "\n",
    "\n",
    "|Method|Description|\n",
    "|--- |--- |\n",
    "|`capitalize()`|Converts the first character to upper case|\n",
    "|`casefold()`|Converts string into lower case|\n",
    "|`center()`|Returns a centered string|\n",
    "|`count()`|Returns the number of times a specified value occurs in a string|\n",
    "|`encode()`|Returns an encoded version of the string|\n",
    "|`endswith()`|Returns true if the string ends with the specified value|\n",
    "|`expandtabs()`|Sets the tab size of the string|\n",
    "|`find()`|Searches the string for a specified value and returns the position of where it was found|\n",
    "|`format()`|Formats specified values in a string|\n",
    "|`format_map()`|Formats specified values in a string|\n",
    "|`index()`|Searches the string for a specified value and returns the position of where it was found|\n",
    "|`isalnum()`|Returns True if all characters in the string are alphanumeric|\n",
    "|`isalpha()`|Returns True if all characters in the string are in the alphabet|\n",
    "|`isdecimal()`|Returns True if all characters in the string are decimals|\n",
    "|`isdigit()`|Returns True if all characters in the string are digits|\n",
    "|`isidentifier()`|Returns True if the string is an identifier|\n",
    "|`islower()`|Returns True if all characters in the string are lower case|\n",
    "|`isnumeric()`|Returns True if all characters in the string are numeric|\n",
    "|`isprintable()`|Returns True if all characters in the string are printable|\n",
    "|`isspace()`|Returns True if all characters in the string are whitespaces|\n",
    "|`istitle()`|Returns True if the string follows the rules of a title|\n",
    "|`isupper()`|Returns True if all characters in the string are upper case|\n",
    "|`join()`|Joins the elements of an iterable to the end of the string|\n",
    "|`ljust()`|Returns a left justified version of the string|\n",
    "|`lower()`|Converts a string into lower case|\n",
    "|`lstrip()`|Returns a left trim version of the string|\n",
    "|`maketrans()`|Returns a translation table to be used in translations|\n",
    "|`partition()`|Returns a tuple where the string is parted into three parts|\n",
    "|`replace()`|Returns a string where a specified value is replaced with a specified value|\n",
    "|`rfind()`|Searches the string for a specified value and returns the last position of where it was found|\n",
    "|`rindex()`|Searches the string for a specified value and returns the last position of where it was found|\n",
    "|`rpartition()`|Returns a tuple where the string is parted into three parts|\n",
    "|`rsplit()`|Splits the string at the specified separator, and returns a list|\n",
    "|`rstrip()`|Returns a right trim version of the string|\n",
    "|`split()`|Splits the string at the specified separator, and returns a list|\n",
    "|`splitlines()`|Splits the string at line breaks and returns a list|\n",
    "|`startswith()`|Returns true if the string starts with the specified value|\n",
    "|`strip()`|Returns a trimmed version of the string|\n",
    "|`swapcase()`|Swaps cases, lower case becomes upper case and vice versa|\n",
    "|`title()`|Converts the first character of each word to upper case|\n",
    "|`translate()`|Returns a translated string|\n",
    "|`upper()`|Converts a string into upper case|\n",
    "|`zfill()`|Fills the string with a specified number of 0 values at the beginning|\n"
   ]
  },
  {
   "cell_type": "markdown",
   "metadata": {},
   "source": [
    "Here are some possible manipulations using string methods:"
   ]
  },
  {
   "cell_type": "code",
   "execution_count": 26,
   "metadata": {},
   "outputs": [],
   "source": [
    "s = 'idl python c++ ncl fortran'"
   ]
  },
  {
   "cell_type": "code",
   "execution_count": 27,
   "metadata": {},
   "outputs": [
    {
     "data": {
      "text/plain": [
       "False"
      ]
     },
     "execution_count": 27,
     "metadata": {},
     "output_type": "execute_result"
    }
   ],
   "source": [
    "s.isalpha()"
   ]
  },
  {
   "cell_type": "markdown",
   "metadata": {},
   "source": [
    "`s.isalpha()` is False because of the spaces and `++`."
   ]
  },
  {
   "cell_type": "code",
   "execution_count": 28,
   "metadata": {},
   "outputs": [
    {
     "data": {
      "text/plain": [
       "'Idl Python C++ Ncl Fortran'"
      ]
     },
     "execution_count": 28,
     "metadata": {},
     "output_type": "execute_result"
    }
   ],
   "source": [
    "b = s.title()\n",
    "b"
   ]
  },
  {
   "cell_type": "code",
   "execution_count": 29,
   "metadata": {},
   "outputs": [
    {
     "name": "stdout",
     "output_type": "stream",
     "text": [
      "Idl!\n",
      "Python!\n",
      "C++!\n",
      "Ncl!\n",
      "Fortran\n"
     ]
    }
   ],
   "source": [
    "c = b.replace(' ', '!\\n')\n",
    "print(c)"
   ]
  },
  {
   "cell_type": "code",
   "execution_count": 30,
   "metadata": {},
   "outputs": [
    {
     "data": {
      "text/plain": [
       "5"
      ]
     },
     "execution_count": 30,
     "metadata": {},
     "output_type": "execute_result"
    }
   ],
   "source": [
    "c.index('Python')"
   ]
  },
  {
   "cell_type": "code",
   "execution_count": 31,
   "metadata": {},
   "outputs": [
    {
     "data": {
      "text/plain": [
       "True"
      ]
     },
     "execution_count": 31,
     "metadata": {},
     "output_type": "execute_result"
    }
   ],
   "source": [
    "c[5:].startswith('Py')"
   ]
  },
  {
   "cell_type": "code",
   "execution_count": 32,
   "metadata": {},
   "outputs": [
    {
     "name": "stdout",
     "output_type": "stream",
     "text": [
      "Idl True\n"
     ]
    }
   ],
   "source": [
    "print(c[0:3], c[0:3].isalpha())"
   ]
  },
  {
   "cell_type": "markdown",
   "metadata": {},
   "source": [
    "The string method join, takes a sequence of string objects and joins them together in a single string:\n",
    "\n"
   ]
  },
  {
   "cell_type": "code",
   "execution_count": 33,
   "metadata": {},
   "outputs": [
    {
     "data": {
      "text/plain": [
       "'one-two-three'"
      ]
     },
     "execution_count": 33,
     "metadata": {},
     "output_type": "execute_result"
    }
   ],
   "source": [
    "'-'.join( ('one', 'two', 'three') )"
   ]
  },
  {
   "cell_type": "markdown",
   "metadata": {},
   "source": [
    "- **comma-separated thousands**\n",
    "\n",
    "Python can produce string representations of numbers for which thousands are separated by commas:"
   ]
  },
  {
   "cell_type": "code",
   "execution_count": 34,
   "metadata": {},
   "outputs": [
    {
     "data": {
      "text/plain": [
       "'  1,000,000'"
      ]
     },
     "execution_count": 34,
     "metadata": {},
     "output_type": "execute_result"
    }
   ],
   "source": [
    "'{:11,d}'.format(1000000)"
   ]
  },
  {
   "cell_type": "code",
   "execution_count": 35,
   "metadata": {},
   "outputs": [
    {
     "data": {
      "text/plain": [
       "'1,000,000.0'"
      ]
     },
     "execution_count": 35,
     "metadata": {},
     "output_type": "execute_result"
    }
   ],
   "source": [
    "'{:11,.1f}'.format(1000000.)"
   ]
  },
  {
   "cell_type": "markdown",
   "metadata": {},
   "source": [
    "## Sequence Types — list, tuple, range\n",
    "\n",
    "- A **Sequence** is an ordered container of items, indexed by non-negative integers. \n",
    "- Python provides built-in sequence types for tuples, lists, and range objects."
   ]
  },
  {
   "cell_type": "markdown",
   "metadata": {},
   "source": [
    "### [Tuples](https://docs.python.org/3/library/stdtypes.html#tuples)\n",
    "\n",
    "- A `tuple` is an immutable ordered sequence of items. \n",
    "- Tuples are typically used to store collections of heterogeneous data.\n",
    "- Tuples may be constructed in a number of ways:"
   ]
  },
  {
   "cell_type": "code",
   "execution_count": 36,
   "metadata": {},
   "outputs": [
    {
     "data": {
      "text/plain": [
       "(100, 668.9, 'Hello')"
      ]
     },
     "execution_count": 36,
     "metadata": {},
     "output_type": "execute_result"
    }
   ],
   "source": [
    "(100, 668.9, 'Hello') # Separating items with commas"
   ]
  },
  {
   "cell_type": "code",
   "execution_count": 37,
   "metadata": {},
   "outputs": [
    {
     "data": {
      "text/plain": [
       "(3.15,)"
      ]
     },
     "execution_count": 37,
     "metadata": {},
     "output_type": "execute_result"
    }
   ],
   "source": [
    "(3.15, ) # Using a trailing comma for a singleton tuple"
   ]
  },
  {
   "cell_type": "code",
   "execution_count": 38,
   "metadata": {},
   "outputs": [
    {
     "data": {
      "text/plain": [
       "()"
      ]
     },
     "execution_count": 38,
     "metadata": {},
     "output_type": "execute_result"
    }
   ],
   "source": [
    "() # Using a pair of parentheses to denote the empty tuple"
   ]
  },
  {
   "cell_type": "code",
   "execution_count": 39,
   "metadata": {},
   "outputs": [
    {
     "data": {
      "text/plain": [
       "('h', 'e', 'l', 'l', 'o')"
      ]
     },
     "execution_count": 39,
     "metadata": {},
     "output_type": "execute_result"
    }
   ],
   "source": [
    "tuple('hello') # Using the  built-in tuple() constructor"
   ]
  },
  {
   "cell_type": "markdown",
   "metadata": {},
   "source": [
    "\n",
    "---\n",
    "**NOTE**\n",
    "\n",
    "It is actually the comma which makes a tuple, not the parentheses:\n",
    "\n",
    "\n",
    "---\n"
   ]
  },
  {
   "cell_type": "code",
   "execution_count": 40,
   "metadata": {},
   "outputs": [
    {
     "data": {
      "text/plain": [
       "('cesm-le', 'cmip')"
      ]
     },
     "execution_count": 40,
     "metadata": {},
     "output_type": "execute_result"
    }
   ],
   "source": [
    "'cesm-le', 'cmip'"
   ]
  },
  {
   "cell_type": "markdown",
   "metadata": {},
   "source": [
    "The parentheses are optional, except in the empty tuple case, or when they are needed to avoid syntactic ambiguity."
   ]
  },
  {
   "cell_type": "markdown",
   "metadata": {},
   "source": [
    "### [Lists](https://docs.python.org/3/library/stdtypes.html#lists)\n",
    "\n",
    "- A `list` is a mutable ordered sequence of items.\n",
    "- Lists are typically used to store collections of homogeneous items but may store arbitrary objects of different types\n",
    "- Lists may be constructed in several ways:"
   ]
  },
  {
   "cell_type": "code",
   "execution_count": 41,
   "metadata": {},
   "outputs": [
    {
     "data": {
      "text/plain": [
       "['cesm', 'cmip', 'cam', 'pop', 'mom']"
      ]
     },
     "execution_count": 41,
     "metadata": {},
     "output_type": "execute_result"
    }
   ],
   "source": [
    "[\"cesm\", \"cmip\", \"cam\", \"pop\", \"mom\"] # Using a pair of square brackets"
   ]
  },
  {
   "cell_type": "code",
   "execution_count": 42,
   "metadata": {},
   "outputs": [
    {
     "data": {
      "text/plain": [
       "[100, 'hi']"
      ]
     },
     "execution_count": 42,
     "metadata": {},
     "output_type": "execute_result"
    }
   ],
   "source": [
    "[100, 'hi']"
   ]
  },
  {
   "cell_type": "code",
   "execution_count": 43,
   "metadata": {},
   "outputs": [
    {
     "data": {
      "text/plain": [
       "[]"
      ]
     },
     "execution_count": 43,
     "metadata": {},
     "output_type": "execute_result"
    }
   ],
   "source": [
    "[] # Empty list"
   ]
  },
  {
   "cell_type": "code",
   "execution_count": 44,
   "metadata": {},
   "outputs": [
    {
     "data": {
      "text/plain": [
       "['h', 'e', 'l', 'l', 'o']"
      ]
     },
     "execution_count": 44,
     "metadata": {},
     "output_type": "execute_result"
    }
   ],
   "source": [
    "list('hello') # Using the type constructor"
   ]
  },
  {
   "cell_type": "code",
   "execution_count": 45,
   "metadata": {},
   "outputs": [
    {
     "data": {
      "text/plain": [
       "['h', 'e', 'l', 'l', 'o']"
      ]
     },
     "execution_count": 45,
     "metadata": {},
     "output_type": "execute_result"
    }
   ],
   "source": [
    "[character for character in 'hello'] # Using a list comprehension"
   ]
  },
  {
   "cell_type": "markdown",
   "metadata": {},
   "source": [
    "### [Ranges](https://docs.python.org/3/library/stdtypes.html#ranges)\n",
    "\n",
    "- The range type represents an immutable sequence of numbers and is commonly used for looping a specific number of times in for loops."
   ]
  },
  {
   "cell_type": "code",
   "execution_count": 46,
   "metadata": {},
   "outputs": [
    {
     "data": {
      "text/plain": [
       "range(0, 10, 2)"
      ]
     },
     "execution_count": 46,
     "metadata": {},
     "output_type": "execute_result"
    }
   ],
   "source": [
    "range(0, 10, 2) # range(start, stop[, step])"
   ]
  },
  {
   "cell_type": "markdown",
   "metadata": {},
   "source": [
    "The advantage of the range type over a regular list or tuple is that a range object will always take the same (small) amount of memory, no matter the size of the range it represents (as it only stores the start, stop and step values, calculating individual items and subranges as needed)."
   ]
  },
  {
   "cell_type": "markdown",
   "metadata": {},
   "source": [
    "### [Mapping Types — dict](https://docs.python.org/3/library/stdtypes.html#mapping-types-dict)\n",
    "\n",
    "- A `mapping` is an arbitrary collection of objects indexed by nearly arbitrary values called `keys`.\n",
    "- Mappings are mutable objects\n",
    "- There is currently only one standard mapping type, the `dictionary`.\n",
    "- An item in a dictionary is a `key/value` pair. A Python dictionary is also known in some other languages as a hash\n",
    "- A dictionary’s keys are almost arbitrary values. \n",
    "    - Values that are not hashable, that is, values containing lists, dictionaries or other mutable types (that are compared by value rather than by object identity) may not be used as keys. \n",
    "    - Numeric types used for keys obey the normal rules for numeric comparison: if two numbers compare equal (such as 1 and 1.0) then they can be used interchangeably to index the same dictionary entry. \n",
    "    - Note however, that since computers store floating-point numbers as approximations it is usually unwise to use them as dictionary keys."
   ]
  },
  {
   "cell_type": "markdown",
   "metadata": {},
   "source": [
    "Dictionaries can be created by placing a comma-separated list of key: value pairs within braces, for example: \n",
    "        "
   ]
  },
  {
   "cell_type": "code",
   "execution_count": 47,
   "metadata": {},
   "outputs": [
    {
     "data": {
      "text/plain": [
       "{'jack': 4098, 'sjoerd': 4127}"
      ]
     },
     "execution_count": 47,
     "metadata": {},
     "output_type": "execute_result"
    }
   ],
   "source": [
    "{'jack': 4098, 'sjoerd': 4127} "
   ]
  },
  {
   "cell_type": "code",
   "execution_count": 48,
   "metadata": {},
   "outputs": [
    {
     "data": {
      "text/plain": [
       "{4098: 'jack', 4127: 'sjoerd'}"
      ]
     },
     "execution_count": 48,
     "metadata": {},
     "output_type": "execute_result"
    }
   ],
   "source": [
    "{4098: 'jack', 4127: 'sjoerd'}"
   ]
  },
  {
   "cell_type": "markdown",
   "metadata": {},
   "source": [
    "or by the dict constructor:"
   ]
  },
  {
   "cell_type": "code",
   "execution_count": 49,
   "metadata": {},
   "outputs": [
    {
     "data": {
      "text/plain": [
       "{'jack': 4098, 'sjoerd': 4127}"
      ]
     },
     "execution_count": 49,
     "metadata": {},
     "output_type": "execute_result"
    }
   ],
   "source": [
    "dict([['jack', 4098], ['sjoerd', 4127]])"
   ]
  },
  {
   "cell_type": "markdown",
   "metadata": {},
   "source": [
    "- If a key appears more than once, only the last item with that key is kept in the resulting dictionary:"
   ]
  },
  {
   "cell_type": "code",
   "execution_count": 50,
   "metadata": {},
   "outputs": [
    {
     "data": {
      "text/plain": [
       "{'jack': 1000000, 'sjoerd': 4127}"
      ]
     },
     "execution_count": 50,
     "metadata": {},
     "output_type": "execute_result"
    }
   ],
   "source": [
    "{'jack': 4098, 'sjoerd': 4127, 'jack': 1000000}"
   ]
  },
  {
   "cell_type": "markdown",
   "metadata": {},
   "source": [
    "## None\n",
    "- The built-in type `None` denotes a null object.\n",
    "- None has no methods or other attributes.\n",
    "- You can use `None` as a placeholder when you need a reference but you don't care about what object you refer to, or when you need to indicate that no object is there.\n",
    "- Functions return `None` as their result unless they have specific return statements coded to return other values. "
   ]
  },
  {
   "cell_type": "code",
   "execution_count": 51,
   "metadata": {},
   "outputs": [],
   "source": [
    "None"
   ]
  }
 ],
 "metadata": {
  "kernelspec": {
   "display_name": "Python 3",
   "language": "python",
   "name": "python3"
  },
  "language_info": {
   "codemirror_mode": {
    "name": "ipython",
    "version": 3
   },
   "file_extension": ".py",
   "mimetype": "text/x-python",
   "name": "python",
   "nbconvert_exporter": "python",
   "pygments_lexer": "ipython3",
   "version": "3.6.7"
  }
 },
 "nbformat": 4,
 "nbformat_minor": 2
}
