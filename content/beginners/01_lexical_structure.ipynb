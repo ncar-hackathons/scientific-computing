{
 "cells": [
  {
   "cell_type": "markdown",
   "metadata": {},
   "source": [
    "# Lexical Structure\n",
    "\n",
    "Python is very particular about program layout, especially with regard to lines and indentation.\n",
    "\n",
    "## Lines and Indentation\n",
    "\n",
    "- In Python, the end of a physical line marks the end of most statements. Unlike in othe programming languages such as C, C++, Python statements **are not normally terminated with a delimiter**, such as a semicolon (`;`). \n",
    "- When a statement is too long to fit on a single physical line, you can join two adjacent physical lines into a logical line by ensuring that the first physical line has no comment and ends with a backslash (`\\`)\n",
    "- Python also joins adjacent physical lines into one logical line if an open parenthesis(`(`), bracket (`[`), or brace (`{`) has not yet been closed. \n",
    "- Python uses indentation to express the block structure of a program. Unlike other languages, Python does not use braces or being/end delimiters around blocks of statements:\n",
    "  - Indentation is the only way to indicate such blocks\n",
    "  - All statements in a block must have the same indentation\n",
    "  - Python style is to use four spaces per indentation level"
   ]
  },
  {
   "cell_type": "markdown",
   "metadata": {},
   "source": [
    "## Identifiers\n",
    "\n",
    "- An **identifier** is a name used to identify a variable, function, class, module, or other object.\n",
    "- Normal Python style is to start class names with an uppercase letter and other identifiers with a lowercase letter.\n",
    "- Starting an identifier with a single leading underscore indicates by convention that the identifier is meant to be private.\n",
    "- Starting an identifier with two leading underscores indicates a strongly private identifier; if the identifier also ends with two trailing underscores, the identifier is a language-defined special name.\n",
    "- The identifier `_` (a single underscore) is special in interactive interpreter sessions: the interpreter binds `_` to the result of the last expression statement evaluated interactively, if any."
   ]
  },
  {
   "cell_type": "markdown",
   "metadata": {},
   "source": [
    "## Keywords\n",
    "\n",
    "- Python version `3+` has a set of 33 keywords that are reserved words that cannot be used as variable names, function names, or any other identifiers:\n",
    "\n",
    "|Method|Description|\n",
    "|--- |--- |\n",
    "|and|A logical operator|\n",
    "|as|To create an alias|\n",
    "|assert|For debugging|\n",
    "|break|To break out of a loop|\n",
    "|class|To define a class|\n",
    "|continue|To continue to the next iteration of a loop|\n",
    "|def|To define a function|\n",
    "|del|To delete an object|\n",
    "|elif|Used in conditional statements, same as else if|\n",
    "|else|Used in conditional statements|\n",
    "|except|Used with exceptions, what to do when an exception occurs|\n",
    "|False|Boolean value, result of comparison operations|\n",
    "|finally|Used with exceptions, a block of code that will be executed no matter if there is an exception or not|\n",
    "|for|To create a for loop|\n",
    "|from|To import specific parts of a module|\n",
    "|global|To declare a global variable|\n",
    "|if|To make a conditional statement|\n",
    "|import|To import a module|\n",
    "|in|To check if a value is present in a list, tuple, etc.|\n",
    "|is|To test if two variables are equal|\n",
    "|lambda|To create an anonymous function|\n",
    "|None|Represents a null value|\n",
    "|nonlocal|To declare a non-local variable|\n",
    "|not|A logical operator|\n",
    "|or|A logical operator|\n",
    "|pass|A null statement, a statement that will do nothing|\n",
    "|raise|To raise an exception|\n",
    "|return|To exit a function and return a value|\n",
    "|True|Boolean value, result of comparison operations|\n",
    "|try|To make a try...except statement|\n",
    "|while|To create a while loop|\n",
    "|with|Used to simplify exception handling|\n",
    "|yield|To end a function, returns a generator|\n"
   ]
  }
 ],
 "metadata": {
  "kernelspec": {
   "display_name": "Python 3",
   "language": "python",
   "name": "python3"
  },
  "language_info": {
   "codemirror_mode": {
    "name": "ipython",
    "version": 3
   },
   "file_extension": ".py",
   "mimetype": "text/x-python",
   "name": "python",
   "nbconvert_exporter": "python",
   "pygments_lexer": "ipython3",
   "version": "3.6.7"
  }
 },
 "nbformat": 4,
 "nbformat_minor": 2
}
