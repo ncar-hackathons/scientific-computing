{
 "cells": [
  {
   "cell_type": "markdown",
   "metadata": {},
   "source": [
    "# Control Flow Statements\n",
    "\n",
    "## The `if` statement"
   ]
  },
  {
   "cell_type": "code",
   "execution_count": 1,
   "metadata": {},
   "outputs": [
    {
     "data": {
      "text/plain": [
       "'a'"
      ]
     },
     "execution_count": 1,
     "metadata": {},
     "output_type": "execute_result"
    }
   ],
   "source": [
    "'a' if 3 < 4 else 'b'"
   ]
  },
  {
   "cell_type": "code",
   "execution_count": 2,
   "metadata": {},
   "outputs": [
    {
     "data": {
      "text/plain": [
       "'b'"
      ]
     },
     "execution_count": 2,
     "metadata": {},
     "output_type": "execute_result"
    }
   ],
   "source": [
    "'a' if 4 < 3 else 'b'"
   ]
  },
  {
   "cell_type": "code",
   "execution_count": 3,
   "metadata": {},
   "outputs": [
    {
     "name": "stdout",
     "output_type": "stream",
     "text": [
      "A\n"
     ]
    }
   ],
   "source": [
    "temp = 95\n",
    "\n",
    "if temp >= 90:\n",
    "    print('A')\n",
    "    \n",
    "elif score >= 80:\n",
    "    print('B')\n",
    "    \n",
    "else:\n",
    "    print('C')"
   ]
  },
  {
   "cell_type": "markdown",
   "metadata": {},
   "source": [
    "---\n",
    "**NOTE**\n",
    "\n",
    "Unlike some languages, Python does not have a `switch` statement, so you must use `if`, `elif`, and `else` for all condition processing.\n",
    "\n",
    "---"
   ]
  },
  {
   "cell_type": "markdown",
   "metadata": {},
   "source": [
    "In Python, any non-zero number, or non-empty string, tuple, list, or dictionary evaluates as true:"
   ]
  },
  {
   "cell_type": "code",
   "execution_count": 4,
   "metadata": {},
   "outputs": [],
   "source": [
    "a = {}\n",
    "b = 'hello'"
   ]
  },
  {
   "cell_type": "code",
   "execution_count": 5,
   "metadata": {},
   "outputs": [
    {
     "name": "stdout",
     "output_type": "stream",
     "text": [
      "Yes\n"
     ]
    }
   ],
   "source": [
    "if b:\n",
    "    print('Yes')\n",
    "else:\n",
    "    print('No')"
   ]
  },
  {
   "cell_type": "markdown",
   "metadata": {},
   "source": [
    "When you want to test a value `x` in a Boolean context, it's recommended to use the following coding style:\n",
    "\n",
    "```python\n",
    "if x:\n",
    "    ...\n",
    "```\n",
    "This is the clearest and most Pythonic form. Don't use:\n",
    "\n",
    "```python\n",
    "if x is True:\n",
    "    ...\n",
    "if x == True:\n",
    "    ...\n",
    "if bool(x):\n",
    "    ...\n",
    "```\n",
    "\n",
    "---\n",
    "\n",
    "**NOTE**\n",
    "\n",
    "- There is a crucial difference between saying that an expression **returns True** (meaning the expression returns the value 1 intended as a Boolean result) and saying that an expression **evaluates to True** (meaning the expression returns any result that is true in a Boolean context)\n",
    "- When testing an expression, you care about the latter condition, not the former.\n",
    "\n",
    "\n",
    "---\n",
    "\n"
   ]
  },
  {
   "cell_type": "markdown",
   "metadata": {},
   "source": [
    "## The `while` Statement\n",
    "\n",
    "The `while` statement in Python supports repeated execution of a statement or block of statements that is controlled by a conditional expression:\n"
   ]
  },
  {
   "cell_type": "code",
   "execution_count": 6,
   "metadata": {},
   "outputs": [
    {
     "name": "stdout",
     "output_type": "stream",
     "text": [
      "The approximate log2 of 50 is 6\n"
     ]
    }
   ],
   "source": [
    "count = 0\n",
    "x = 50\n",
    "while x > 0:\n",
    "    x = x // 2 # Truncating division\n",
    "    count += 1\n",
    "print(f'The approximate log2 of 50 is {count}')"
   ]
  },
  {
   "cell_type": "markdown",
   "metadata": {},
   "source": [
    "## The `for` Statement\n",
    "\n",
    "- A for loop is used for iterating over a sequence (that is either a list, a tuple, a dictionary, a set, or a string).\n",
    "\n",
    "- With the for loop we can execute a set of statements, once for each item in a list, tuple, set etc."
   ]
  },
  {
   "cell_type": "markdown",
   "metadata": {},
   "source": [
    "Here's the syntax for the `for` statement:\n",
    "\n",
    "```python\n",
    "for target in iterable:\n",
    "    statement(s)\n",
    "```"
   ]
  },
  {
   "cell_type": "code",
   "execution_count": 7,
   "metadata": {},
   "outputs": [
    {
     "name": "stdout",
     "output_type": "stream",
     "text": [
      "Give me a P...\n",
      "Give me a y...\n",
      "Give me a t...\n",
      "Give me a h...\n",
      "Give me a o...\n",
      "Give me a n...\n"
     ]
    }
   ],
   "source": [
    "for letter in \"Python\":\n",
    "    print(f\"Give me a {letter}...\")"
   ]
  },
  {
   "cell_type": "code",
   "execution_count": 8,
   "metadata": {},
   "outputs": [
    {
     "name": "stdout",
     "output_type": "stream",
     "text": [
      "Python\n",
      "C++\n",
      "IDL\n",
      "NCL\n",
      "Fortran\n"
     ]
    }
   ],
   "source": [
    "languages = [\"Python\", \"C++\", \"IDL\", \"NCL\", \"Fortran\"]\n",
    "for language in languages:\n",
    "    print(language)"
   ]
  },
  {
   "cell_type": "markdown",
   "metadata": {},
   "source": [
    "## The `break` Statement\n",
    "\n",
    "With the break statement we can stop the loop before it has looped through all the items:"
   ]
  },
  {
   "cell_type": "code",
   "execution_count": 9,
   "metadata": {},
   "outputs": [
    {
     "name": "stdout",
     "output_type": "stream",
     "text": [
      "Python\n",
      "C++\n",
      "IDL\n"
     ]
    }
   ],
   "source": [
    "for language in languages:\n",
    "    print(language)\n",
    "    if language == \"IDL\":\n",
    "        break"
   ]
  },
  {
   "cell_type": "markdown",
   "metadata": {},
   "source": [
    "## The `continue` Statement\n",
    "\n",
    "With the continue statement we can stop the current iteration of the loop, and continue with the next:"
   ]
  },
  {
   "cell_type": "code",
   "execution_count": 10,
   "metadata": {},
   "outputs": [
    {
     "name": "stdout",
     "output_type": "stream",
     "text": [
      "Python\n",
      "C++\n",
      "NCL\n",
      "Fortran\n"
     ]
    }
   ],
   "source": [
    "for language in languages:\n",
    "    if language == \"IDL\":\n",
    "        continue\n",
    "    print(language)\n"
   ]
  },
  {
   "cell_type": "markdown",
   "metadata": {},
   "source": [
    "## The `else` Clause on Loop Statements\n",
    "\n",
    "- Both the `while` and `for` statements may optionally have a trailing `else` clause. The statement or statements after the `else` execute when the loop terminates naturally. \n",
    "- When a loop contains one or more `break` statements, you oftern need to check whether the loop terminates naturally or prematurely. You can use na lese clause on the loop for this purpose:"
   ]
  },
  {
   "cell_type": "code",
   "execution_count": 11,
   "metadata": {},
   "outputs": [
    {
     "data": {
      "text/plain": [
       "['Python', 'C++', 'IDL', 'NCL', 'Fortran']"
      ]
     },
     "execution_count": 11,
     "metadata": {},
     "output_type": "execute_result"
    }
   ],
   "source": [
    "languages"
   ]
  },
  {
   "cell_type": "code",
   "execution_count": 12,
   "metadata": {},
   "outputs": [
    {
     "name": "stdout",
     "output_type": "stream",
     "text": [
      "Warning: no statisfactory item was found in ['Python', 'C++', 'IDL', 'NCL', 'Fortran']\n"
     ]
    }
   ],
   "source": [
    "for lan in languages:\n",
    "    if lan == 'C':\n",
    "        break\n",
    "else:\n",
    "    print(f\"Warning: no statisfactory item was found in {languages}\")\n",
    "    lan = None"
   ]
  }
 ],
 "metadata": {
  "kernelspec": {
   "display_name": "Python 3",
   "language": "python",
   "name": "python3"
  },
  "language_info": {
   "codemirror_mode": {
    "name": "ipython",
    "version": 3
   },
   "file_extension": ".py",
   "mimetype": "text/x-python",
   "name": "python",
   "nbconvert_exporter": "python",
   "pygments_lexer": "ipython3",
   "version": "3.6.7"
  }
 },
 "nbformat": 4,
 "nbformat_minor": 2
}
