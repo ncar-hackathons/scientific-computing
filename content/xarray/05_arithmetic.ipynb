{
 "cells": [
  {
   "cell_type": "markdown",
   "metadata": {},
   "source": [
    "# Arithmetic\n",
    "\n",
    "Arithmetic operations with a single DataArray automatically vectorize (like numpy) over all array values:\n"
   ]
  },
  {
   "cell_type": "code",
   "execution_count": 1,
   "metadata": {},
   "outputs": [],
   "source": [
    "import xarray as xr"
   ]
  },
  {
   "cell_type": "code",
   "execution_count": 2,
   "metadata": {},
   "outputs": [],
   "source": [
    "da = xr.open_dataarray(\"../data/air_temperature.nc\")"
   ]
  },
  {
   "cell_type": "code",
   "execution_count": 3,
   "metadata": {},
   "outputs": [
    {
     "data": {
      "text/plain": [
       "<xarray.DataArray 'air' (time: 2920, lat: 25, lon: 53)>\n",
       "[3869000 values with dtype=float32]\n",
       "Coordinates:\n",
       "  * lat      (lat) float32 75.0 72.5 70.0 67.5 65.0 ... 25.0 22.5 20.0 17.5 15.0\n",
       "  * lon      (lon) float32 200.0 202.5 205.0 207.5 ... 322.5 325.0 327.5 330.0\n",
       "  * time     (time) datetime64[ns] 2013-01-01 ... 2014-12-31T18:00:00\n",
       "Attributes:\n",
       "    long_name:     4xDaily Air temperature at sigma level 995\n",
       "    units:         degK\n",
       "    precision:     2\n",
       "    GRIB_id:       11\n",
       "    GRIB_name:     TMP\n",
       "    var_desc:      Air temperature\n",
       "    dataset:       NMC Reanalysis\n",
       "    level_desc:    Surface\n",
       "    statistic:     Individual Obs\n",
       "    parent_stat:   Other\n",
       "    actual_range:  [185.16 322.1 ]"
      ]
     },
     "execution_count": 3,
     "metadata": {},
     "output_type": "execute_result"
    }
   ],
   "source": [
    "da"
   ]
  },
  {
   "cell_type": "code",
   "execution_count": 4,
   "metadata": {},
   "outputs": [
    {
     "data": {
      "text/plain": [
       "<xarray.DataArray 'air' (time: 2920, lat: 25, lon: 53)>\n",
       "array([[[-31.949997, -30.649994, ..., -37.649994, -34.550003],\n",
       "        [-29.350006, -28.649994, ..., -37.850006, -33.850006],\n",
       "        ...,\n",
       "        [ 22.75    ,  23.049988, ...,  22.75    ,  22.049988],\n",
       "        [ 23.140015,  23.640015, ...,  23.640015,  23.450012]],\n",
       "\n",
       "       [[-31.050003, -30.449997, ..., -39.550003, -37.350006],\n",
       "        [-29.550003, -29.050003, ..., -40.649994, -37.449997],\n",
       "        ...,\n",
       "        [ 23.049988,  23.549988, ...,  22.350006,  21.950012],\n",
       "        [ 23.140015,  24.049988, ...,  23.25    ,  23.450012]],\n",
       "\n",
       "       ...,\n",
       "\n",
       "       [[-27.36    , -28.36    , ..., -29.160004, -28.36    ],\n",
       "        [-23.259995, -23.86    , ..., -30.660004, -28.86    ],\n",
       "        ...,\n",
       "        [ 23.140015,  24.040009, ...,  21.940002,  21.23999 ],\n",
       "        [ 24.640015,  25.23999 , ...,  22.339996,  22.040009]],\n",
       "\n",
       "       [[-28.059998, -28.86    , ..., -31.660004, -31.36    ],\n",
       "        [-23.259995, -23.86    , ..., -32.86    , -31.460007],\n",
       "        ...,\n",
       "        [ 22.940002,  23.73999 , ...,  22.540009,  22.040009],\n",
       "        [ 24.540009,  24.940002, ...,  23.040009,  22.540009]]], dtype=float32)\n",
       "Coordinates:\n",
       "  * lat      (lat) float32 75.0 72.5 70.0 67.5 65.0 ... 25.0 22.5 20.0 17.5 15.0\n",
       "  * lon      (lon) float32 200.0 202.5 205.0 207.5 ... 322.5 325.0 327.5 330.0\n",
       "  * time     (time) datetime64[ns] 2013-01-01 ... 2014-12-31T18:00:00"
      ]
     },
     "execution_count": 4,
     "metadata": {},
     "output_type": "execute_result"
    }
   ],
   "source": [
    "da - 273.15"
   ]
  },
  {
   "cell_type": "code",
   "execution_count": 5,
   "metadata": {},
   "outputs": [
    {
     "data": {
      "text/plain": [
       "<xarray.DataArray 'air' (lat: 25, lon: 53)>\n",
       "array([[260.37564, 260.1826 , 259.88593, ..., 250.81511, 251.93733, 253.43741],\n",
       "       [262.7337 , 262.7936 , 262.7489 , ..., 249.75496, 251.5852 , 254.35849],\n",
       "       [264.7681 , 264.3271 , 264.0614 , ..., 250.60707, 253.58247, 257.71475],\n",
       "       ...,\n",
       "       [297.64932, 296.95294, 296.62912, ..., 296.81033, 296.28793, 295.81622],\n",
       "       [298.1287 , 297.93646, 297.47006, ..., 296.8591 , 296.77686, 296.44348],\n",
       "       [298.36594, 298.38593, 298.11386, ..., 297.33777, 297.28104, 297.30502]],\n",
       "      dtype=float32)\n",
       "Coordinates:\n",
       "  * lat      (lat) float32 75.0 72.5 70.0 67.5 65.0 ... 25.0 22.5 20.0 17.5 15.0\n",
       "  * lon      (lon) float32 200.0 202.5 205.0 207.5 ... 322.5 325.0 327.5 330.0"
      ]
     },
     "execution_count": 5,
     "metadata": {},
     "output_type": "execute_result"
    }
   ],
   "source": [
    "da_mean = da.mean(dim='time')\n",
    "da_mean"
   ]
  },
  {
   "cell_type": "code",
   "execution_count": 6,
   "metadata": {},
   "outputs": [
    {
     "data": {
      "text/plain": [
       "<xarray.DataArray 'air' (time: 2920, lat: 25, lon: 53)>\n",
       "array([[[-1.917564e+01, -1.768259e+01, ..., -1.643733e+01, -1.483742e+01],\n",
       "        [-1.893372e+01, -1.829361e+01, ..., -1.628522e+01, -1.505850e+01],\n",
       "        ...,\n",
       "        [-2.228699e+00, -1.736481e+00, ..., -8.768616e-01, -1.243500e+00],\n",
       "        [-2.075928e+00, -1.595917e+00, ..., -4.910278e-01, -7.050171e-01]],\n",
       "\n",
       "       [[-1.827565e+01, -1.748259e+01, ..., -1.833734e+01, -1.763742e+01],\n",
       "        [-1.913371e+01, -1.869362e+01, ..., -1.908521e+01, -1.865849e+01],\n",
       "        ...,\n",
       "        [-1.928711e+00, -1.236481e+00, ..., -1.276855e+00, -1.343475e+00],\n",
       "        [-2.075928e+00, -1.185944e+00, ..., -8.810425e-01, -7.050171e-01]],\n",
       "\n",
       "       ...,\n",
       "\n",
       "       [[-1.458565e+01, -1.539259e+01, ..., -7.947342e+00, -8.647415e+00],\n",
       "        [-1.284370e+01, -1.350362e+01, ..., -9.095215e+00, -1.006850e+01],\n",
       "        ...,\n",
       "        [-1.838684e+00, -7.464600e-01, ..., -1.686859e+00, -2.053497e+00],\n",
       "        [-5.759277e-01,  4.058838e-03, ..., -1.791046e+00, -2.115021e+00]],\n",
       "\n",
       "       [[-1.528564e+01, -1.589259e+01, ..., -1.044734e+01, -1.164742e+01],\n",
       "        [-1.284370e+01, -1.350362e+01, ..., -1.129521e+01, -1.266850e+01],\n",
       "        ...,\n",
       "        [-2.038696e+00, -1.046478e+00, ..., -1.086853e+00, -1.253479e+00],\n",
       "        [-6.759338e-01, -2.959290e-01, ..., -1.091034e+00, -1.615021e+00]]],\n",
       "      dtype=float32)\n",
       "Coordinates:\n",
       "  * lat      (lat) float32 75.0 72.5 70.0 67.5 65.0 ... 25.0 22.5 20.0 17.5 15.0\n",
       "  * lon      (lon) float32 200.0 202.5 205.0 207.5 ... 322.5 325.0 327.5 330.0\n",
       "  * time     (time) datetime64[ns] 2013-01-01 ... 2014-12-31T18:00:00"
      ]
     },
     "execution_count": 6,
     "metadata": {},
     "output_type": "execute_result"
    }
   ],
   "source": [
    "da - da_mean"
   ]
  },
  {
   "cell_type": "markdown",
   "metadata": {},
   "source": [
    "---\n",
    "\n",
    "**NOTE:** \n",
    "    \n",
    "Notice that this required broadcasting along the time dimension. NumPy broadcasting is covered in great detail in [NumPy Guide](https://ncar-hackathons.github.io/scientific-computing/numpy/intro.html).\n",
    "\n",
    "---\n"
   ]
  },
  {
   "cell_type": "code",
   "execution_count": 7,
   "metadata": {},
   "outputs": [
    {
     "name": "stdout",
     "output_type": "stream",
     "text": [
      "xarray 0.12.1\n",
      "last updated: 2019-05-17 \n",
      "\n",
      "CPython 3.6.7\n",
      "IPython 7.5.0\n",
      "\n",
      "compiler   : GCC 4.2.1 Compatible Clang 4.0.1 (tags/RELEASE_401/final)\n",
      "system     : Darwin\n",
      "release    : 18.2.0\n",
      "machine    : x86_64\n",
      "processor  : i386\n",
      "CPU cores  : 8\n",
      "interpreter: 64bit\n",
      "Git hash   : 83530e805423a8f36958a61783cbbd9fe388eace\n"
     ]
    }
   ],
   "source": [
    "%load_ext watermark\n",
    "%watermark --iversion -g -m -v -u -d"
   ]
  }
 ],
 "metadata": {
  "kernelspec": {
   "display_name": "Python 3",
   "language": "python",
   "name": "python3"
  },
  "language_info": {
   "codemirror_mode": {
    "name": "ipython",
    "version": 3
   },
   "file_extension": ".py",
   "mimetype": "text/x-python",
   "name": "python",
   "nbconvert_exporter": "python",
   "pygments_lexer": "ipython3",
   "version": "3.6.7"
  }
 },
 "nbformat": 4,
 "nbformat_minor": 2
}
