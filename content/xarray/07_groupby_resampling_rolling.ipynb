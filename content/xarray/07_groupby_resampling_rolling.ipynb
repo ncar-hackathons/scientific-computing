{
 "cells": [
  {
   "cell_type": "markdown",
   "metadata": {},
   "source": [
    "## GroupBy Operations\n",
    "\n",
    "xarray supports “group by” operations with the same API as pandas to implement the split-apply-combine strategy:\n",
    "\n",
    "- Split your data into multiple independent groups.\n",
    "- Apply some function to each group.\n",
    "- Combine your groups back into a single data object.\n",
    "\n",
    "Group by operations work on both Dataset and DataArray objects. Most of the examples focus on grouping by a single one-dimensional variable, although support for grouping over a multi-dimensional variable is also supported:"
   ]
  },
  {
   "cell_type": "markdown",
   "metadata": {},
   "source": [
    "- **Using groupby to calculate a monthly climatology:**"
   ]
  },
  {
   "cell_type": "code",
   "execution_count": 1,
   "metadata": {},
   "outputs": [],
   "source": [
    "import xarray as xr"
   ]
  },
  {
   "cell_type": "code",
   "execution_count": 2,
   "metadata": {},
   "outputs": [],
   "source": [
    "da = xr.open_dataarray(\"../data/air_temperature.nc\")"
   ]
  },
  {
   "cell_type": "code",
   "execution_count": 3,
   "metadata": {},
   "outputs": [
    {
     "data": {
      "text/plain": [
       "<xarray.DataArray 'air' (month: 12, lat: 25, lon: 53)>\n",
       "array([[[246.34987, 246.38608, ..., 244.08795, 245.6467 ],\n",
       "        [248.8576 , 248.90733, ..., 243.50865, 246.75471],\n",
       "        ...,\n",
       "        [296.5446 , 296.46982, ..., 295.0812 , 294.53006],\n",
       "        [297.15417, 297.2383 , ..., 295.77554, 295.63647]],\n",
       "\n",
       "       [[246.67715, 246.40576, ..., 243.0021 , 244.44383],\n",
       "        [247.8001 , 247.75992, ..., 242.26633, 245.06662],\n",
       "        ...,\n",
       "        [296.78754, 296.63443, ..., 294.2178 , 293.70258],\n",
       "        [297.2889 , 297.2165 , ..., 294.9558 , 294.87967]],\n",
       "\n",
       "       ...,\n",
       "\n",
       "       [[253.74484, 253.64487, ..., 243.9345 , 245.14209],\n",
       "        [259.12967, 258.62927, ..., 243.07965, 245.46625],\n",
       "        ...,\n",
       "        [298.58783, 298.42026, ..., 298.19397, 297.9083 ],\n",
       "        [298.81143, 298.8566 , ..., 298.7519 , 298.8189 ]],\n",
       "\n",
       "       [[247.971  , 248.02118, ..., 241.02383, 242.62823],\n",
       "        [249.73361, 250.16037, ..., 240.96469, 244.11626],\n",
       "        ...,\n",
       "        [297.46814, 297.38025, ..., 296.84668, 296.52133],\n",
       "        [297.8809 , 297.9868 , ..., 297.5655 , 297.53763]]], dtype=float32)\n",
       "Coordinates:\n",
       "  * lat      (lat) float32 75.0 72.5 70.0 67.5 65.0 ... 25.0 22.5 20.0 17.5 15.0\n",
       "  * lon      (lon) float32 200.0 202.5 205.0 207.5 ... 322.5 325.0 327.5 330.0\n",
       "  * month    (month) int64 1 2 3 4 5 6 7 8 9 10 11 12"
      ]
     },
     "execution_count": 3,
     "metadata": {},
     "output_type": "execute_result"
    }
   ],
   "source": [
    "da_climatology = da.groupby('time.month').mean('time')\n",
    "\n",
    "da_climatology"
   ]
  },
  {
   "cell_type": "markdown",
   "metadata": {},
   "source": [
    "In this case, we provide what we refer to as a virtual variable (`time.month`). Other virtual variables include: `year`, `month`, `day`, `hour`, `minute`, `second`, `dayofyear`, `week`, `dayofweek`, `weekday` and `quarter`. It is also possible to use another DataArray or pandas object as the grouper."
   ]
  },
  {
   "cell_type": "code",
   "execution_count": 4,
   "metadata": {},
   "outputs": [
    {
     "data": {
      "text/plain": [
       "<xarray.DataArray 'air' (season: 4, lat: 25, lon: 53)>\n",
       "array([[[246.2    , 246.54999, ..., 243.19499, 244.7    ],\n",
       "        [247.7    , 248.     , ..., 242.5    , 245.44   ],\n",
       "        ...,\n",
       "        [297.     , 296.9    , ..., 295.345  , 294.845  ],\n",
       "        [297.5    , 297.6    , ..., 296.     , 296.     ]],\n",
       "\n",
       "       [[273.19998, 273.1    , ..., 266.79   , 268.55   ],\n",
       "        [273.79   , 273.9    , ..., 266.5    , 269.     ],\n",
       "        ...,\n",
       "        [298.9    , 298.6    , ..., 297.29   , 297.1    ],\n",
       "        [298.9    , 298.9    , ..., 297.745  , 297.9    ]],\n",
       "\n",
       "       [[258.6    , 258.29   , ..., 249.945  , 250.89   ],\n",
       "        [259.345  , 259.4    , ..., 250.04999, 252.09999],\n",
       "        ...,\n",
       "        [297.5    , 297.29   , ..., 295.4    , 295.     ],\n",
       "        [298.     , 298.     , ..., 295.9    , 295.79   ]],\n",
       "\n",
       "       [[264.245  , 263.6    , ..., 249.19998, 250.89   ],\n",
       "        [270.5    , 270.55   , ..., 248.945  , 252.     ],\n",
       "        ...,\n",
       "        [299.19998, 299.     , ..., 299.     , 298.9    ],\n",
       "        [299.19998, 299.29   , ..., 299.5    , 299.6    ]]], dtype=float32)\n",
       "Coordinates:\n",
       "  * lat      (lat) float32 75.0 72.5 70.0 67.5 65.0 ... 25.0 22.5 20.0 17.5 15.0\n",
       "  * lon      (lon) float32 200.0 202.5 205.0 207.5 ... 322.5 325.0 327.5 330.0\n",
       "  * season   (season) object 'DJF' 'JJA' 'MAM' 'SON'"
      ]
     },
     "execution_count": 4,
     "metadata": {},
     "output_type": "execute_result"
    }
   ],
   "source": [
    "da.groupby('time.season').median('time')"
   ]
  },
  {
   "cell_type": "markdown",
   "metadata": {},
   "source": [
    "## Resampling Operations\n",
    "\n",
    "In order to resample time-series data, xarray provides a `resample` convenience method for frequency conversion and resampling of time series. "
   ]
  },
  {
   "cell_type": "code",
   "execution_count": 5,
   "metadata": {},
   "outputs": [
    {
     "data": {
      "text/plain": [
       "<xarray.DataArray 'air' (time: 2920, lat: 25, lon: 53)>\n",
       "[3869000 values with dtype=float32]\n",
       "Coordinates:\n",
       "  * lat      (lat) float32 75.0 72.5 70.0 67.5 65.0 ... 25.0 22.5 20.0 17.5 15.0\n",
       "  * lon      (lon) float32 200.0 202.5 205.0 207.5 ... 322.5 325.0 327.5 330.0\n",
       "  * time     (time) datetime64[ns] 2013-01-01 ... 2014-12-31T18:00:00\n",
       "Attributes:\n",
       "    long_name:     4xDaily Air temperature at sigma level 995\n",
       "    units:         degK\n",
       "    precision:     2\n",
       "    GRIB_id:       11\n",
       "    GRIB_name:     TMP\n",
       "    var_desc:      Air temperature\n",
       "    dataset:       NMC Reanalysis\n",
       "    level_desc:    Surface\n",
       "    statistic:     Individual Obs\n",
       "    parent_stat:   Other\n",
       "    actual_range:  [185.16 322.1 ]"
      ]
     },
     "execution_count": 5,
     "metadata": {},
     "output_type": "execute_result"
    }
   ],
   "source": [
    "da"
   ]
  },
  {
   "cell_type": "markdown",
   "metadata": {},
   "source": [
    "- **Downsample our 6 hourly time-series data to quaterly data:**"
   ]
  },
  {
   "cell_type": "code",
   "execution_count": 6,
   "metadata": {},
   "outputs": [
    {
     "data": {
      "text/plain": [
       "<xarray.DataArray 'air' (time: 8, lat: 25, lon: 53)>\n",
       "array([[[244.61775, 244.4874 , ..., 243.6617 , 244.84286],\n",
       "        [246.70831, 246.60774, ..., 243.09488, 245.42445],\n",
       "        ...,\n",
       "        [296.29684, 296.1032 , ..., 295.27814, 294.85345],\n",
       "        [296.90457, 296.85693, ..., 295.94586, 295.85483]],\n",
       "\n",
       "       [[266.05133, 265.95355, ..., 256.4855 , 258.0242 ],\n",
       "        [266.68463, 266.89017, ..., 256.30783, 258.96777],\n",
       "        ...,\n",
       "        [297.93405, 297.69324, ..., 296.312  , 295.90536],\n",
       "        [298.18423, 298.11508, ..., 296.65125, 296.639  ]],\n",
       "\n",
       "       ...,\n",
       "\n",
       "       [[272.5132 , 272.365  , ..., 262.73245, 264.31403],\n",
       "        [273.85675, 274.0403 , ..., 262.66376, 265.30276],\n",
       "        ...,\n",
       "        [299.58566, 299.3528 , ..., 298.18146, 297.92966],\n",
       "        [299.52676, 299.55106, ..., 298.55417, 298.6812 ]],\n",
       "\n",
       "       [[254.5719 , 254.2065 , ..., 245.83794, 247.16304],\n",
       "        [258.69034, 258.4616 , ..., 245.36269, 248.19038],\n",
       "        ...,\n",
       "        [298.82498, 298.7005 , ..., 298.20093, 297.89267],\n",
       "        [299.03397, 299.12115, ..., 298.70218, 298.74704]]], dtype=float32)\n",
       "Coordinates:\n",
       "  * time     (time) datetime64[ns] 2013-01-01 2013-04-01 ... 2014-10-01\n",
       "  * lat      (lat) float32 75.0 72.5 70.0 67.5 65.0 ... 25.0 22.5 20.0 17.5 15.0\n",
       "  * lon      (lon) float32 200.0 202.5 205.0 207.5 ... 322.5 325.0 327.5 330.0"
      ]
     },
     "execution_count": 6,
     "metadata": {},
     "output_type": "execute_result"
    }
   ],
   "source": [
    "da1 = da.resample(time='QS').mean(dim='time')\n",
    "da1"
   ]
  },
  {
   "cell_type": "markdown",
   "metadata": {},
   "source": [
    "- **Upsample our quarterly time-series data to daily data:**"
   ]
  },
  {
   "cell_type": "code",
   "execution_count": 7,
   "metadata": {},
   "outputs": [
    {
     "data": {
      "text/plain": [
       "<xarray.DataArray 'air' (time: 730, lat: 25, lon: 53)>\n",
       "array([[[241.199997, 242.5     , ..., 235.5     , 238.599991],\n",
       "        [243.799988, 244.5     , ..., 235.299988, 239.299988],\n",
       "        ...,\n",
       "        [295.899994, 296.199982, ..., 295.899994, 295.199982],\n",
       "        [296.290009, 296.790009, ..., 296.790009, 296.600006]],\n",
       "\n",
       "       [[243.199997, 243.099991, ..., 238.799988, 240.889999],\n",
       "        [246.389999, 245.299988, ..., 234.889999, 237.199997],\n",
       "        ...,\n",
       "        [297.290009, 297.399994, ..., 296.5     , 296.290009],\n",
       "        [297.790009, 298.100006, ..., 297.399994, 297.399994]],\n",
       "\n",
       "       ...,\n",
       "\n",
       "       [[253.299988, 254.299988, ..., 250.389999, 249.189987],\n",
       "        [256.5     , 258.      , ..., 252.189987, 252.889999],\n",
       "        ...,\n",
       "        [297.889984, 297.889984, ..., 296.199982, 295.5     ],\n",
       "        [298.889984, 298.790009, ..., 296.290009, 296.      ]],\n",
       "\n",
       "       [[242.48999 , 242.389999, ..., 246.789993, 247.289993],\n",
       "        [248.389999, 248.789993, ..., 241.98999 , 243.789993],\n",
       "        ...,\n",
       "        [296.98999 , 298.389984, ..., 295.589996, 294.790009],\n",
       "        [298.290009, 299.290009, ..., 295.98999 , 295.48999 ]]])\n",
       "Coordinates:\n",
       "  * lat      (lat) float32 75.0 72.5 70.0 67.5 65.0 ... 25.0 22.5 20.0 17.5 15.0\n",
       "  * lon      (lon) float32 200.0 202.5 205.0 207.5 ... 322.5 325.0 327.5 330.0\n",
       "  * time     (time) datetime64[ns] 2013-01-01 2013-01-02 ... 2014-12-31\n",
       "Attributes:\n",
       "    long_name:     4xDaily Air temperature at sigma level 995\n",
       "    units:         degK\n",
       "    precision:     2\n",
       "    GRIB_id:       11\n",
       "    GRIB_name:     TMP\n",
       "    var_desc:      Air temperature\n",
       "    dataset:       NMC Reanalysis\n",
       "    level_desc:    Surface\n",
       "    statistic:     Individual Obs\n",
       "    parent_stat:   Other\n",
       "    actual_range:  [185.16 322.1 ]"
      ]
     },
     "execution_count": 7,
     "metadata": {},
     "output_type": "execute_result"
    }
   ],
   "source": [
    "da.resample(time='1D').interpolate('linear')"
   ]
  },
  {
   "cell_type": "markdown",
   "metadata": {},
   "source": [
    "## Rolling Window Operations\n",
    "\n",
    "Xarray objects include a rolling method to support rolling window aggregations:"
   ]
  },
  {
   "cell_type": "code",
   "execution_count": 8,
   "metadata": {},
   "outputs": [],
   "source": [
    "roller = da.rolling(time=3)"
   ]
  },
  {
   "cell_type": "code",
   "execution_count": 9,
   "metadata": {},
   "outputs": [
    {
     "data": {
      "text/plain": [
       "DataArrayRolling [window->3,center->False,dim->time]"
      ]
     },
     "execution_count": 9,
     "metadata": {},
     "output_type": "execute_result"
    }
   ],
   "source": [
    "roller"
   ]
  },
  {
   "cell_type": "code",
   "execution_count": 10,
   "metadata": {},
   "outputs": [
    {
     "data": {
      "text/plain": [
       "<xarray.DataArray (time: 2920, lat: 25, lon: 53)>\n",
       "array([[[      nan,       nan, ...,       nan,       nan],\n",
       "        [      nan,       nan, ...,       nan,       nan],\n",
       "        ...,\n",
       "        [      nan,       nan, ...,       nan,       nan],\n",
       "        [      nan,       nan, ...,       nan,       nan]],\n",
       "\n",
       "       [[      nan,       nan, ...,       nan,       nan],\n",
       "        [      nan,       nan, ...,       nan,       nan],\n",
       "        ...,\n",
       "        [      nan,       nan, ...,       nan,       nan],\n",
       "        [      nan,       nan, ...,       nan,       nan]],\n",
       "\n",
       "       ...,\n",
       "\n",
       "       [[243.92358, 243.39023, ..., 245.0904 , 245.65619],\n",
       "        [249.12335, 249.0236 , ..., 241.9232 , 243.5903 ],\n",
       "        ...,\n",
       "        [296.68994, 297.82315, ..., 295.38968, 294.6566 ],\n",
       "        [298.08994, 298.9566 , ..., 295.75665, 295.4895 ]],\n",
       "\n",
       "       [[244.79025, 244.02356, ..., 243.32373, 243.82286],\n",
       "        [249.62335, 249.19028, ..., 241.35654, 242.8903 ],\n",
       "        ...,\n",
       "        [296.38995, 297.32315, ..., 295.42303, 294.78992],\n",
       "        [297.88995, 298.55658, ..., 295.8233 , 295.55618]]], dtype=float32)\n",
       "Coordinates:\n",
       "  * lat      (lat) float32 75.0 72.5 70.0 67.5 65.0 ... 25.0 22.5 20.0 17.5 15.0\n",
       "  * lon      (lon) float32 200.0 202.5 205.0 207.5 ... 322.5 325.0 327.5 330.0\n",
       "  * time     (time) datetime64[ns] 2013-01-01 ... 2014-12-31T18:00:00"
      ]
     },
     "execution_count": 10,
     "metadata": {},
     "output_type": "execute_result"
    }
   ],
   "source": [
    "roller.mean()"
   ]
  },
  {
   "cell_type": "markdown",
   "metadata": {},
   "source": [
    "- **We can also provide a custom function**"
   ]
  },
  {
   "cell_type": "code",
   "execution_count": 11,
   "metadata": {},
   "outputs": [
    {
     "data": {
      "text/plain": [
       "<xarray.DataArray (time: 2920, lat: 25, lon: 53)>\n",
       "array([[[      nan,       nan, ...,       nan,       nan],\n",
       "        [      nan,       nan, ...,       nan,       nan],\n",
       "        ...,\n",
       "        [      nan,       nan, ...,       nan,       nan],\n",
       "        [      nan,       nan, ...,       nan,       nan]],\n",
       "\n",
       "       [[      nan,       nan, ...,       nan,       nan],\n",
       "        [      nan,       nan, ...,       nan,       nan],\n",
       "        ...,\n",
       "        [      nan,       nan, ...,       nan,       nan],\n",
       "        [      nan,       nan, ...,       nan,       nan]],\n",
       "\n",
       "       ...,\n",
       "\n",
       "       [[458.76996, 457.16998, ..., 462.26996, 463.96997],\n",
       "        [474.37   , 474.06995, ..., 452.76996, 457.76996],\n",
       "        ...,\n",
       "        [617.07007, 620.47   , ..., 613.1699 , 610.97   ],\n",
       "        [621.27   , 623.87   , ..., 614.27   , 613.47003]],\n",
       "\n",
       "       [[461.37   , 459.06995, ..., 456.96997, 458.46997],\n",
       "        [475.87   , 474.56995, ..., 451.06995, 455.66998],\n",
       "        ...,\n",
       "        [616.17004, 618.97   , ..., 613.26996, 611.37   ],\n",
       "        [620.67   , 622.6699 , ..., 614.47003, 613.67   ]]], dtype=float32)\n",
       "Coordinates:\n",
       "  * lat      (lat) float32 75.0 72.5 70.0 67.5 65.0 ... 25.0 22.5 20.0 17.5 15.0\n",
       "  * lon      (lon) float32 200.0 202.5 205.0 207.5 ... 322.5 325.0 327.5 330.0\n",
       "  * time     (time) datetime64[ns] 2013-01-01 ... 2014-12-31T18:00:00"
      ]
     },
     "execution_count": 11,
     "metadata": {},
     "output_type": "execute_result"
    }
   ],
   "source": [
    "def sum_minus_2(da, axis):\n",
    "    return da.sum(axis=axis) - 273\n",
    "\n",
    "roller.reduce(sum_minus_2)"
   ]
  },
  {
   "cell_type": "code",
   "execution_count": 12,
   "metadata": {},
   "outputs": [
    {
     "name": "stdout",
     "output_type": "stream",
     "text": [
      "xarray 0.12.1\n",
      "last updated: 2019-05-18 \n",
      "\n",
      "CPython 3.6.7\n",
      "IPython 7.5.0\n",
      "\n",
      "compiler   : GCC 4.2.1 Compatible Clang 4.0.1 (tags/RELEASE_401/final)\n",
      "system     : Darwin\n",
      "release    : 18.2.0\n",
      "machine    : x86_64\n",
      "processor  : i386\n",
      "CPU cores  : 8\n",
      "interpreter: 64bit\n",
      "Git hash   : 83530e805423a8f36958a61783cbbd9fe388eace\n"
     ]
    }
   ],
   "source": [
    "%load_ext watermark\n",
    "%watermark --iversion -g -m -v -u -d"
   ]
  }
 ],
 "metadata": {
  "kernelspec": {
   "display_name": "Python 3",
   "language": "python",
   "name": "python3"
  },
  "language_info": {
   "codemirror_mode": {
    "name": "ipython",
    "version": 3
   },
   "file_extension": ".py",
   "mimetype": "text/x-python",
   "name": "python",
   "nbconvert_exporter": "python",
   "pygments_lexer": "ipython3",
   "version": "3.6.7"
  }
 },
 "nbformat": 4,
 "nbformat_minor": 2
}
