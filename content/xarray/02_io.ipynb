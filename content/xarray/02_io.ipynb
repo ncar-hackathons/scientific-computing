{
 "cells": [
  {
   "cell_type": "markdown",
   "metadata": {},
   "source": [
    "# Reading and Writing Files\n",
    "\n",
    "\n",
    "Xarray supports direct serialization and I/O to several file formats including pickle, netCDF, OPeNDAP (read-only), GRIB1/2 (read-only), Zarr, and HDF by integrating with third-party libraries. Additional serialization formats for 1-dimensional data are available through pandas.\n",
    "\n",
    "File types\n",
    "- Pickle\n",
    "- NetCDF 3/4\n",
    "- RasterIO\n",
    "- Zarr\n",
    "- PyNio\n",
    "\n",
    "Interoperability\n",
    "- Pandas\n",
    "- Iris\n",
    "- CDMS\n",
    "- dask DataFrame\n"
   ]
  },
  {
   "cell_type": "markdown",
   "metadata": {},
   "source": [
    "## Opening xarray datasets\n",
    "\n",
    "Xarray's `open_dataset` and `open_mfdataset` are the primary functions for opening local or remote datasets such as netCDF, GRIB, OpenDap, and HDF. These operations are all supported by third party libraries (engines) for which xarray provides a common interface. "
   ]
  },
  {
   "cell_type": "code",
   "execution_count": 1,
   "metadata": {},
   "outputs": [
    {
     "name": "stdout",
     "output_type": "stream",
     "text": [
      "netcdf rasm {\n",
      "dimensions:\n",
      "\ttime = 36 ;\n",
      "\ty = 205 ;\n",
      "\tx = 275 ;\n",
      "variables:\n",
      "\tdouble Tair(time, y, x) ;\n",
      "\t\tTair:_FillValue = 9.96920996838687e+36 ;\n",
      "\t\tTair:units = \"C\" ;\n",
      "\t\tTair:long_name = \"Surface air temperature\" ;\n",
      "\t\tTair:type_preferred = \"double\" ;\n",
      "\t\tTair:time_rep = \"instantaneous\" ;\n",
      "\t\tTair:coordinates = \"yc xc\" ;\n",
      "\tdouble time(time) ;\n",
      "\t\ttime:_FillValue = NaN ;\n",
      "\t\ttime:long_name = \"time\" ;\n",
      "\t\ttime:type_preferred = \"int\" ;\n",
      "\t\ttime:units = \"days since 0001-01-01\" ;\n",
      "\t\ttime:calendar = \"noleap\" ;\n",
      "\tdouble xc(y, x) ;\n",
      "\t\txc:_FillValue = NaN ;\n",
      "\t\txc:long_name = \"longitude of grid cell center\" ;\n",
      "\t\txc:units = \"degrees_east\" ;\n",
      "\t\txc:bounds = \"xv\" ;\n",
      "\tdouble yc(y, x) ;\n",
      "\t\tyc:_FillValue = NaN ;\n",
      "\t\tyc:long_name = \"latitude of grid cell center\" ;\n",
      "\t\tyc:units = \"degrees_north\" ;\n",
      "\t\tyc:bounds = \"yv\" ;\n",
      "\n",
      "// global attributes:\n",
      "\t\t:title = \"/workspace/jhamman/processed/R1002RBRxaaa01a/lnd/temp/R1002RBRxaaa01a.vic.ha.1979-09-01.nc\" ;\n",
      "\t\t:institution = \"U.W.\" ;\n",
      "\t\t:source = \"RACM R1002RBRxaaa01a\" ;\n",
      "\t\t:output_frequency = \"daily\" ;\n",
      "\t\t:output_mode = \"averaged\" ;\n",
      "\t\t:convention = \"CF-1.4\" ;\n",
      "\t\t:references = \"Based on the initial model of Liang et al., 1994, JGR, 99, 14,415- 14,429.\" ;\n",
      "\t\t:comment = \"Output from the Variable Infiltration Capacity (VIC) model.\" ;\n",
      "\t\t:nco_openmp_thread_number = 1 ;\n",
      "\t\t:NCO = \"\\\"4.6.0\\\"\" ;\n",
      "\t\t:history = \"Tue Dec 27 14:15:22 2016: ncatted -a dimensions,,d,, rasm.nc rasm.nc\\nTue Dec 27 13:38:40 2016: ncks -3 rasm.nc rasm.nc\\nhistory deleted for brevity\" ;\n",
      "}\n"
     ]
    }
   ],
   "source": [
    "!ncdump -h ../data/rasm.nc"
   ]
  },
  {
   "cell_type": "code",
   "execution_count": 2,
   "metadata": {},
   "outputs": [],
   "source": [
    "import xarray as xr\n",
    "from glob import glob"
   ]
  },
  {
   "cell_type": "code",
   "execution_count": 3,
   "metadata": {},
   "outputs": [
    {
     "data": {
      "text/plain": [
       "<xarray.Dataset>\n",
       "Dimensions:  (time: 36, x: 275, y: 205)\n",
       "Coordinates:\n",
       "  * time     (time) object 1980-09-16 12:00:00 ... 1983-08-17 00:00:00\n",
       "    xc       (y, x) float64 ...\n",
       "    yc       (y, x) float64 ...\n",
       "Dimensions without coordinates: x, y\n",
       "Data variables:\n",
       "    Tair     (time, y, x) float64 ...\n",
       "Attributes:\n",
       "    title:                     /workspace/jhamman/processed/R1002RBRxaaa01a/l...\n",
       "    institution:               U.W.\n",
       "    source:                    RACM R1002RBRxaaa01a\n",
       "    output_frequency:          daily\n",
       "    output_mode:               averaged\n",
       "    convention:                CF-1.4\n",
       "    references:                Based on the initial model of Liang et al., 19...\n",
       "    comment:                   Output from the Variable Infiltration Capacity...\n",
       "    nco_openmp_thread_number:  1\n",
       "    NCO:                       \"4.6.0\"\n",
       "    history:                   Tue Dec 27 14:15:22 2016: ncatted -a dimension..."
      ]
     },
     "execution_count": 3,
     "metadata": {},
     "output_type": "execute_result"
    }
   ],
   "source": [
    "ds = xr.open_dataset('../data/rasm.nc')\n",
    "ds"
   ]
  },
  {
   "cell_type": "markdown",
   "metadata": {},
   "source": [
    "## Saving xarray datasets as netcdf files\n",
    "\n",
    "Xarray provides a high-level method for writing netCDF files directly from Xarray Datasets/DataArrays."
   ]
  },
  {
   "cell_type": "code",
   "execution_count": 4,
   "metadata": {},
   "outputs": [],
   "source": [
    "ds.to_netcdf('../data/rasm_test.nc')"
   ]
  },
  {
   "cell_type": "markdown",
   "metadata": {},
   "source": [
    "## Multifile datasets\n",
    "\n",
    "Xarray can read/write multifile datasets using the `open_mfdataset` and `save_mfdataset` functions. "
   ]
  },
  {
   "cell_type": "code",
   "execution_count": 5,
   "metadata": {},
   "outputs": [
    {
     "data": {
      "text/plain": [
       "['../data/1980.nc', '../data/1981.nc', '../data/1982.nc', '../data/1983.nc']"
      ]
     },
     "execution_count": 5,
     "metadata": {},
     "output_type": "execute_result"
    }
   ],
   "source": [
    "paths = glob('../data/19*.nc')\n",
    "paths"
   ]
  },
  {
   "cell_type": "code",
   "execution_count": 6,
   "metadata": {},
   "outputs": [
    {
     "data": {
      "text/plain": [
       "<xarray.Dataset>\n",
       "Dimensions:  (time: 36, x: 275, y: 205)\n",
       "Coordinates:\n",
       "    xc       (y, x) float64 189.2 189.4 189.6 189.7 ... 17.65 17.4 17.15 16.91\n",
       "    yc       (y, x) float64 16.53 16.78 17.02 17.27 ... 28.26 28.01 27.76 27.51\n",
       "  * time     (time) object 1980-09-16 12:00:00 ... 1983-08-17 00:00:00\n",
       "Dimensions without coordinates: x, y\n",
       "Data variables:\n",
       "    Tair     (time, y, x) float64 dask.array<shape=(36, 205, 275), chunksize=(4, 205, 275)>\n",
       "Attributes:\n",
       "    title:                     /workspace/jhamman/processed/R1002RBRxaaa01a/l...\n",
       "    institution:               U.W.\n",
       "    source:                    RACM R1002RBRxaaa01a\n",
       "    output_frequency:          daily\n",
       "    output_mode:               averaged\n",
       "    convention:                CF-1.4\n",
       "    references:                Based on the initial model of Liang et al., 19...\n",
       "    comment:                   Output from the Variable Infiltration Capacity...\n",
       "    nco_openmp_thread_number:  1\n",
       "    NCO:                       \"4.6.0\"\n",
       "    history:                   Tue Dec 27 14:15:22 2016: ncatted -a dimension..."
      ]
     },
     "execution_count": 6,
     "metadata": {},
     "output_type": "execute_result"
    }
   ],
   "source": [
    "ds2 = xr.open_mfdataset(paths)\n",
    "ds2"
   ]
  },
  {
   "cell_type": "markdown",
   "metadata": {},
   "source": [
    "## Zarr\n",
    "\n",
    "Zarr is a Python package providing an implementation of chunked, compressed, N-dimensional arrays. Zarr has the ability to store arrays in a range of ways, including in memory, in files, and in cloud-based object storage such as Amazon S3 and Google Cloud Storage. Xarray’s Zarr backend allows xarray to leverage these capabilities."
   ]
  },
  {
   "cell_type": "code",
   "execution_count": 7,
   "metadata": {},
   "outputs": [
    {
     "data": {
      "text/plain": [
       "<xarray.backends.zarr.ZarrStore at 0x11d5eeef0>"
      ]
     },
     "execution_count": 7,
     "metadata": {},
     "output_type": "execute_result"
    }
   ],
   "source": [
    "# save to a Zarr dataset\n",
    "ds.to_zarr('../data/rasm.zarr', mode='w')"
   ]
  },
  {
   "cell_type": "code",
   "execution_count": 8,
   "metadata": {},
   "outputs": [
    {
     "name": "stdout",
     "output_type": "stream",
     "text": [
      "\u001b[34mTair\u001b[m\u001b[m \u001b[34mtime\u001b[m\u001b[m \u001b[34mxc\u001b[m\u001b[m   \u001b[34myc\u001b[m\u001b[m\n"
     ]
    }
   ],
   "source": [
    "!ls ../data/rasm.zarr"
   ]
  },
  {
   "cell_type": "code",
   "execution_count": 9,
   "metadata": {},
   "outputs": [
    {
     "name": "stdout",
     "output_type": "stream",
     "text": [
      "348K\t../data/rasm.zarr/yc\n",
      " 12K\t../data/rasm.zarr/time\n",
      "7.6M\t../data/rasm.zarr/Tair\n",
      "332K\t../data/rasm.zarr/xc\n",
      "8.3M\t../data/rasm.zarr\n"
     ]
    }
   ],
   "source": [
    "!du -h ../data/rasm.zarr"
   ]
  },
  {
   "cell_type": "markdown",
   "metadata": {},
   "source": [
    "----\n",
    "\n",
    "**Going Further:** \n",
    "    \n",
    "- Xarray I/O Documentation: http://xarray.pydata.org/en/latest/io.html\n",
    "\n",
    "- Zarr Documentation: https://zarr.readthedocs.io/en/stable/\n",
    "\n",
    "---"
   ]
  },
  {
   "cell_type": "code",
   "execution_count": 10,
   "metadata": {},
   "outputs": [
    {
     "name": "stdout",
     "output_type": "stream",
     "text": [
      "xarray 0.12.1\n",
      "last updated: 2019-05-17 \n",
      "\n",
      "CPython 3.6.7\n",
      "IPython 7.5.0\n",
      "\n",
      "compiler   : GCC 4.2.1 Compatible Clang 4.0.1 (tags/RELEASE_401/final)\n",
      "system     : Darwin\n",
      "release    : 18.2.0\n",
      "machine    : x86_64\n",
      "processor  : i386\n",
      "CPU cores  : 8\n",
      "interpreter: 64bit\n",
      "Git hash   : b967193c452fe8cb9384ca3dd81a3ef0c6fb2abf\n"
     ]
    }
   ],
   "source": [
    "%load_ext watermark\n",
    "%watermark --iversion -g -m -v -u -d"
   ]
  }
 ],
 "metadata": {
  "kernelspec": {
   "display_name": "Python 3",
   "language": "python",
   "name": "python3"
  },
  "language_info": {
   "codemirror_mode": {
    "name": "ipython",
    "version": 3
   },
   "file_extension": ".py",
   "mimetype": "text/x-python",
   "name": "python",
   "nbconvert_exporter": "python",
   "pygments_lexer": "ipython3",
   "version": "3.6.7"
  }
 },
 "nbformat": 4,
 "nbformat_minor": 2
}
